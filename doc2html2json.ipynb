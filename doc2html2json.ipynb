{
 "cells": [
  {
   "cell_type": "code",
   "execution_count": 6,
   "metadata": {},
   "outputs": [
    {
     "name": "stdout",
     "output_type": "stream",
     "text": [
      "<h1>Hello world</h1><h1>Hello world</h1><h2>Hello world</h2><h3>Hello world</h3><h3>Hello world</h3><p><em>Safe ?</em></p><p><strong>Safe ?</strong></p><p>Safe ?</p><p><strong><em>Safe ?</em></strong></p><ul><li>Oui</li><li>Non </li></ul>\n"
     ]
    }
   ],
   "source": [
    "import mammoth\n",
    "\n",
    "style_map = \"\"\"\n",
    "p[style-name='Title'] => h4:fresh\n",
    "p[style-name='Heading 1'] => h1:fresh\n",
    "p[style-name='Heading 2'] => h2:fresh\n",
    "p[style-name='Heading 3'] => h3:fresh\n",
    "p[style-name^='Heading'] => h3:fresh\n",
    "p[style-name='List'] => ui:fresh\n",
    "p[style-name='i'] => strong\n",
    "p[style-name='b'] => em\n",
    "\"\"\"\n",
    "#h4 gros titre\n",
    "#u (souligné) ignoré pour le moment\n",
    "\n",
    "#b = open('WD.html', 'wb')\n",
    "b = open('test.html', 'wb')\n",
    "#with open(\"Walt Disney.docx\", \"rb\") as docx_file:\n",
    "with open(\"test.docx\", \"rb\") as docx_file:\n",
    "    document = mammoth.convert_to_html(docx_file, style_map=style_map)\n",
    "b.write(document.value.encode('utf8'))\n",
    "print(document.value)\n",
    "docx_file.close()\n",
    "b.close()\n"
   ]
  },
  {
   "cell_type": "code",
   "execution_count": 39,
   "metadata": {},
   "outputs": [
    {
     "data": {
      "text/plain": [
       "<li>Oui</li>"
      ]
     },
     "execution_count": 39,
     "metadata": {},
     "output_type": "execute_result"
    }
   ],
   "source": [
    "from bs4 import BeautifulSoup\n",
    "\n",
    "soup = BeautifulSoup(document.value+\"\\n\", \"html.parser\")\n",
    "#print(soup)\n",
    "soup.contents[9].next"
   ]
  },
  {
   "cell_type": "code",
   "execution_count": 47,
   "metadata": {},
   "outputs": [
    {
     "name": "stdout",
     "output_type": "stream",
     "text": [
      "{\"type\":\"level_1\",\"content\":[}{\"type\":\"level_1\",\"content\":[}{\"type\":\"level_2\",\"content\":[}{\"type\":\"level_2\",\"content\":[}{\"type\":\"level_2\",\"content\":[}{\"type\":\"level_2\",\"content\":[}{\"type\":\"level_2\",\"content\":[}{\"type\":\"level_2\",\"content\":[}{\"type\":\"level_2\",\"content\":[}{\"type\":\"level_2\",\"content\":[}\n"
     ]
    }
   ],
   "source": [
    "i = 0\n",
    "level = 0\n",
    "level_text = ''\n",
    "content = ''\n",
    "x = ''\n",
    "while(soup.contents[i] != \"\\n\"):\n",
    "    if(soup.contents[i].name == \"h4\"):\n",
    "        level = 0\n",
    "        level_text = '0'\n",
    "    if(soup.contents[i].name == \"h1\"):\n",
    "        level = 1\n",
    "        level_text = '1'\n",
    "    if(soup.contents[i].name == \"h2\"):\n",
    "        level = 2\n",
    "        level_text = '2'\n",
    "    content += '{'+'\"type\":\"level_'+level_text+'\",\"content\":[}'\n",
    "    i += 1\n",
    "print(content)"
   ]
  },
  {
   "cell_type": "code",
   "execution_count": null,
   "metadata": {},
   "outputs": [],
   "source": []
  }
 ],
 "metadata": {
  "kernelspec": {
   "display_name": "Python 3",
   "language": "python",
   "name": "python3"
  },
  "language_info": {
   "codemirror_mode": {
    "name": "ipython",
    "version": 3
   },
   "file_extension": ".py",
   "mimetype": "text/x-python",
   "name": "python",
   "nbconvert_exporter": "python",
   "pygments_lexer": "ipython3",
   "version": "3.7.6"
  }
 },
 "nbformat": 4,
 "nbformat_minor": 4
}
