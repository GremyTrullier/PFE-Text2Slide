{
 "cells": [
  {
   "cell_type": "markdown",
   "metadata": {},
   "source": [
    "## Generate PowerPoint slides from code\n",
    "\n",
    "Jeremy Trullier  \n",
    "13/11/2020  \n",
    "\n",
    "This notebook purpose is to have a basic understanding on how the python-pptx library works and how to use it to create PowerPoint slides  \n",
    "The output of this notebook is a PowerPoint presentation with every possible slide layout. For each layout, the placeholders are filled with text containing their names and types.\n",
    "\n",
    "Requires python-pptx library ```pip install python-pptx```"
   ]
  },
  {
   "cell_type": "markdown",
   "metadata": {},
   "source": [
    "## Imports"
   ]
  },
  {
   "cell_type": "code",
   "execution_count": 1,
   "metadata": {},
   "outputs": [],
   "source": [
    "import os\n",
    "\n",
    "from enum import Enum\n",
    "from pptx.util import Inches\n",
    "from pptx import Presentation\n",
    "from pptx.enum.shapes import MSO_SHAPE"
   ]
  },
  {
   "cell_type": "markdown",
   "metadata": {},
   "source": [
    "### Script parameters and variables"
   ]
  },
  {
   "cell_type": "code",
   "execution_count": 2,
   "metadata": {},
   "outputs": [],
   "source": [
    "filename = 'slide_layouts_placeholders.pptx'\n",
    "imgpath = '../data/connard_de_virus.png'"
   ]
  },
  {
   "cell_type": "code",
   "execution_count": 3,
   "metadata": {},
   "outputs": [],
   "source": [
    "# Instantiate the Presentation\n",
    "pres = Presentation()"
   ]
  },
  {
   "cell_type": "markdown",
   "metadata": {},
   "source": [
    "##### Declaring constants"
   ]
  },
  {
   "cell_type": "code",
   "execution_count": 4,
   "metadata": {},
   "outputs": [],
   "source": [
    "# Default Microsoft Office Slide Layouts\n",
    "class DefaultSlideLayouts(Enum):\n",
    "    TITLE_SLIDE = 0\n",
    "    TITLE_AND_CONTENT = 1\n",
    "    SECTION_HEADER = 2\n",
    "    TWO_CONTENT = 3\n",
    "    COMPARISON = 4\n",
    "    TITLE_ONLY = 5\n",
    "    BLANK = 6\n",
    "    CONTENT_WITH_CAPTION = 7\n",
    "    PICTURE_WITH_CAPTION = 8\n",
    "    TITLE_AND_VERTICAL_TEXT = 9\n",
    "    VERTICAL_TITLE_AND_TEXT = 10"
   ]
  },
  {
   "cell_type": "code",
   "execution_count": 12,
   "metadata": {},
   "outputs": [],
   "source": [
    "def new_slide_with_layout(pres, layout):\n",
    "    \"\"\"\n",
    "    Testing function to generate slides with different layouts and fill theirs placeholders with names and content type\n",
    "    Parameters:\n",
    "        - pres : the presentation to add slides to\n",
    "        - layout : the layout of the slide (should be in the enum DefaultSlideLayout)\n",
    "    Will probably not be used in production\n",
    "    \"\"\"\n",
    "    \n",
    "    slide_layout = pres.slide_layouts[layout.value]\n",
    "    slide = pres.slides.add_slide(slide_layout)\n",
    "    print(layout.name)\n",
    "    \n",
    "    for shape in slide.placeholders:\n",
    "        # fill all placeholders with their names and type\n",
    "        \n",
    "        print(\"\\t\", shape.placeholder_format.idx, shape.name)\n",
    "        print(\"\\t\", shape.placeholder_format.type)\n",
    "        print()\n",
    "        try:\n",
    "            # this is only for the PICTURE_WITH_CAPTION slide\n",
    "            picture = shape.insert_picture(imgpath)\n",
    "        except:\n",
    "            shape.text = str(shape.name) + \" \" + str(shape.placeholder_format.type)\n",
    "    print()  \n",
    "    \n",
    "    # give a title to slide\n",
    "    try:\n",
    "        title = slide.shapes.title\n",
    "        title.text = layout.name\n",
    "    except:\n",
    "        # blank slide\n",
    "        tleft = ttop = twidth = theight = Inches(1)\n",
    "        txBox = slide.shapes.add_textbox(tleft, ttop, twidth, theight)\n",
    "        txFrame = txBox.text_frame\n",
    "        txFrame.text = \"This is a blank slide\"\n",
    "    \n",
    "    return pres"
   ]
  },
  {
   "cell_type": "code",
   "execution_count": 13,
   "metadata": {},
   "outputs": [
    {
     "name": "stdout",
     "output_type": "stream",
     "text": [
      "TITLE_SLIDE\n",
      "\t 0 Title 1\n",
      "\t CENTER_TITLE (3)\n",
      "\n",
      "\t 1 Subtitle 2\n",
      "\t SUBTITLE (4)\n",
      "\n",
      "\n",
      "TITLE_AND_CONTENT\n",
      "\t 0 Title 1\n",
      "\t TITLE (1)\n",
      "\n",
      "\t 1 Content Placeholder 2\n",
      "\t OBJECT (7)\n",
      "\n",
      "\n",
      "SECTION_HEADER\n",
      "\t 0 Title 1\n",
      "\t TITLE (1)\n",
      "\n",
      "\t 1 Text Placeholder 2\n",
      "\t BODY (2)\n",
      "\n",
      "\n",
      "TWO_CONTENT\n",
      "\t 0 Title 1\n",
      "\t TITLE (1)\n",
      "\n",
      "\t 1 Content Placeholder 2\n",
      "\t OBJECT (7)\n",
      "\n",
      "\t 2 Content Placeholder 3\n",
      "\t OBJECT (7)\n",
      "\n",
      "\n",
      "COMPARISON\n",
      "\t 0 Title 1\n",
      "\t TITLE (1)\n",
      "\n",
      "\t 1 Text Placeholder 2\n",
      "\t BODY (2)\n",
      "\n",
      "\t 2 Content Placeholder 3\n",
      "\t OBJECT (7)\n",
      "\n",
      "\t 3 Text Placeholder 4\n",
      "\t BODY (2)\n",
      "\n",
      "\t 4 Content Placeholder 5\n",
      "\t OBJECT (7)\n",
      "\n",
      "\n",
      "TITLE_ONLY\n",
      "\t 0 Title 1\n",
      "\t TITLE (1)\n",
      "\n",
      "\n",
      "BLANK\n",
      "\n",
      "CONTENT_WITH_CAPTION\n",
      "\t 0 Title 1\n",
      "\t TITLE (1)\n",
      "\n",
      "\t 1 Content Placeholder 2\n",
      "\t OBJECT (7)\n",
      "\n",
      "\t 2 Text Placeholder 3\n",
      "\t BODY (2)\n",
      "\n",
      "\n",
      "PICTURE_WITH_CAPTION\n",
      "\t 0 Title 1\n",
      "\t TITLE (1)\n",
      "\n",
      "\t 1 Picture Placeholder 2\n",
      "\t PICTURE (18)\n",
      "\n",
      "\t 2 Text Placeholder 3\n",
      "\t BODY (2)\n",
      "\n",
      "\n",
      "TITLE_AND_VERTICAL_TEXT\n",
      "\t 0 Title 1\n",
      "\t TITLE (1)\n",
      "\n",
      "\t 1 Vertical Text Placeholder 2\n",
      "\t BODY (2)\n",
      "\n",
      "\n",
      "VERTICAL_TITLE_AND_TEXT\n",
      "\t 0 Vertical Title 1\n",
      "\t TITLE (1)\n",
      "\n",
      "\t 1 Vertical Text Placeholder 2\n",
      "\t BODY (2)\n",
      "\n",
      "\n"
     ]
    }
   ],
   "source": [
    "for layout in DefaultSlideLayouts:\n",
    "    new_slide_with_layout(pres, layout)"
   ]
  },
  {
   "cell_type": "markdown",
   "metadata": {},
   "source": [
    "### Modify a slide after creation"
   ]
  },
  {
   "cell_type": "code",
   "execution_count": 7,
   "metadata": {},
   "outputs": [],
   "source": [
    "# this part is for the blank slide\n",
    "# and to show how to add text, images, shapes and tables\n",
    "# this part is taken from https://python-pptx.readthedocs.io/en/latest/user/quickstart.html\n",
    "\n",
    "blank = pres.slides[6]\n",
    "\n",
    "# textboxes and textframes\n",
    "tleft = ttop = twidth = theight = Inches(1)\n",
    "txBox = blank.shapes.add_textbox(tleft, ttop, twidth, theight)\n",
    "txFrame = txBox.text_frame\n",
    "\n",
    "txFrame.text = \"This is a blank slide\"\n",
    "\n",
    "p = txFrame.add_paragraph()\n",
    "p.text = \"Any content can be added\"\n",
    "\n",
    "# images\n",
    "ileft = Inches(4)\n",
    "iheight = Inches(3.5)\n",
    "pic = blank.shapes.add_picture(imgpath, ileft, ttop, height=iheight)\n",
    "\n",
    "# shapes\n",
    "sleft = Inches(0.93)  # 0.93\" centers this overall set of shapes\n",
    "stop = Inches(4.0)\n",
    "swidth = Inches(1.75)\n",
    "sheight = Inches(1.0)\n",
    "\n",
    "shape = blank.shapes.add_shape(MSO_SHAPE.PENTAGON, sleft, stop, swidth, sheight)\n",
    "shape.text = 'Shape'\n",
    "\n",
    "# tables\n",
    "rows = cols = 2\n",
    "tableft = Inches(2.0)\n",
    "tabtop = Inches(6.0)\n",
    "tabwidth = Inches(6.0)\n",
    "tabheight = Inches(0.8)\n",
    "\n",
    "table = blank.shapes.add_table(rows, cols, tableft, tabtop, tabwidth, tabheight).table\n",
    "\n",
    "# set column widths\n",
    "table.columns[0].width = Inches(2.0)\n",
    "table.columns[1].width = Inches(4.0)\n",
    "\n",
    "# write column headings\n",
    "table.cell(0, 0).text = 'Foo'\n",
    "table.cell(0, 1).text = 'Bar'\n",
    "\n",
    "# write body cells\n",
    "table.cell(1, 0).text = 'Baz'\n",
    "table.cell(1, 1).text = 'Qux'"
   ]
  },
  {
   "cell_type": "code",
   "execution_count": 8,
   "metadata": {},
   "outputs": [],
   "source": [
    "# save the presentation\n",
    "pres.save(filename)"
   ]
  },
  {
   "cell_type": "code",
   "execution_count": 9,
   "metadata": {},
   "outputs": [],
   "source": [
    "os.startfile(filename)"
   ]
  },
  {
   "cell_type": "code",
   "execution_count": null,
   "metadata": {},
   "outputs": [],
   "source": []
  }
 ],
 "metadata": {
  "kernelspec": {
   "display_name": "Python 3",
   "language": "python",
   "name": "python3"
  },
  "language_info": {
   "codemirror_mode": {
    "name": "ipython",
    "version": 3
   },
   "file_extension": ".py",
   "mimetype": "text/x-python",
   "name": "python",
   "nbconvert_exporter": "python",
   "pygments_lexer": "ipython3",
   "version": "3.8.3"
  }
 },
 "nbformat": 4,
 "nbformat_minor": 4
}
