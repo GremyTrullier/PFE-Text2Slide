{
 "cells": [
  {
   "cell_type": "markdown",
   "metadata": {},
   "source": [
    "## NLP Pipeline\n",
    "by Jeremy Trullier  \n",
    "- Read the JSON  \n",
    "- NLP the paragraphs  \n",
    "- Replace the paragraphs in the file"
   ]
  },
  {
   "cell_type": "code",
   "execution_count": 1,
   "metadata": {},
   "outputs": [],
   "source": [
    "import os\n",
    "import json"
   ]
  },
  {
   "cell_type": "code",
   "execution_count": 2,
   "metadata": {},
   "outputs": [],
   "source": [
    "from process_json import *\n",
    "#from slide_functions import *"
   ]
  },
  {
   "cell_type": "code",
   "execution_count": 3,
   "metadata": {},
   "outputs": [],
   "source": [
    "datapath = '../data/'"
   ]
  },
  {
   "cell_type": "raw",
   "metadata": {},
   "source": [
    "# not really useful\n",
    "files = os.listdir(datapath)\n",
    "for filename in files:\n",
    "    print(filename)"
   ]
  },
  {
   "cell_type": "code",
   "execution_count": 4,
   "metadata": {},
   "outputs": [],
   "source": [
    "filename = \"The Lego Group.json\"\n",
    "jsonpath = datapath+filename"
   ]
  },
  {
   "cell_type": "code",
   "execution_count": 5,
   "metadata": {},
   "outputs": [],
   "source": [
    "with open(jsonpath) as fjson:\n",
    "    data = json.load(fjson)"
   ]
  },
  {
   "cell_type": "code",
   "execution_count": 6,
   "metadata": {},
   "outputs": [],
   "source": [
    "json_slides = data['document_content']"
   ]
  },
  {
   "cell_type": "raw",
   "metadata": {},
   "source": [
    "# printing, remove for script\n",
    "#json_slides"
   ]
  },
  {
   "cell_type": "code",
   "execution_count": 7,
   "metadata": {},
   "outputs": [],
   "source": [
    "slide_elements = []\n",
    "breakdown_json(json_slides, slide_elements)"
   ]
  },
  {
   "cell_type": "raw",
   "metadata": {},
   "source": [
    "# printing, remove for script\n",
    "slide_elements"
   ]
  },
  {
   "cell_type": "raw",
   "metadata": {
    "scrolled": false
   },
   "source": [
    "# printing, remove for script\n",
    "for item in retrieve_content(slide_elements):\n",
    "    print(len(item), item,'\\n')"
   ]
  },
  {
   "cell_type": "code",
   "execution_count": 8,
   "metadata": {},
   "outputs": [],
   "source": [
    "from nlp_extraction import _run_article_summary"
   ]
  },
  {
   "cell_type": "code",
   "execution_count": 9,
   "metadata": {},
   "outputs": [],
   "source": [
    "nlp_sentences = {}\n",
    "for item in retrieve_content(slide_elements):\n",
    "    nlp_sentences[item[0]] = _run_article_summary(item[0])"
   ]
  },
  {
   "cell_type": "raw",
   "metadata": {},
   "source": [
    "# printing, remove for script\n",
    "nlp_sentences"
   ]
  },
  {
   "cell_type": "code",
   "execution_count": 10,
   "metadata": {},
   "outputs": [],
   "source": [
    "nlpjsonpath = datapath+\"nlp_\"+filename"
   ]
  },
  {
   "cell_type": "raw",
   "metadata": {},
   "source": [
    "# printing, remove for script\n",
    "#nlpjsonpath"
   ]
  },
  {
   "cell_type": "code",
   "execution_count": 11,
   "metadata": {},
   "outputs": [],
   "source": [
    "import fileinput"
   ]
  },
  {
   "cell_type": "code",
   "execution_count": 12,
   "metadata": {},
   "outputs": [],
   "source": [
    "for in_sentence, out_sentence in nlp_sentences.items():\n",
    "    with fileinput.FileInput(nlpjsonpath, inplace = True, backup ='.bak', mode=\"r\") as nlpfile:\n",
    "        for line in nlpfile:\n",
    "            if in_sentence in line:\n",
    "                print(line.replace(in_sentence, out_sentence), end ='')\n",
    "            else:\n",
    "                print(line, end ='')"
   ]
  },
  {
   "cell_type": "markdown",
   "metadata": {},
   "source": [
    "### Old functions not used"
   ]
  },
  {
   "cell_type": "raw",
   "metadata": {},
   "source": [
    "from nlp_writing import replace_sentence"
   ]
  },
  {
   "cell_type": "code",
   "execution_count": 13,
   "metadata": {
    "scrolled": false
   },
   "outputs": [],
   "source": [
    "def retrieve_content_and_titles(list_slides, l):\n",
    "    \"\"\"\n",
    "    Retrieves titles and plain texts from json file\n",
    "    Parameters:\n",
    "        - list_slides : list of data in json format\n",
    "        - l : the list to be returned\n",
    "    \"\"\"\n",
    "    if (type(list_slides) == type(list())):\n",
    "        for value in list_slides:\n",
    "            if type(value) == type(str()):\n",
    "                l.append(value)\n",
    "            else:\n",
    "                retrieve_content_and_titles(value, l)\n",
    "    elif (type(list_slides) == type(dict())):\n",
    "        for key,value in list_slides.items():\n",
    "            retrieve_content_and_titles(value, l)\n",
    "    else:\n",
    "        pass\n",
    "        #print(type(list_slides))\n",
    "\n",
    "testl= []\n",
    "retrieve_content_and_titles(json_slides, testl)"
   ]
  },
  {
   "cell_type": "code",
   "execution_count": 14,
   "metadata": {},
   "outputs": [
    {
     "name": "stdout",
     "output_type": "stream",
     "text": [
      "The Lego Group \n",
      "\n",
      "Introduction \n",
      "\n",
      "General information \n",
      "\n",
      "Lego System A/S (trade name: The Lego Group) is a Danish toy production company based in Billund. It is best known for the manufacture of Lego-brand toys, consisting mostly of interlocking plastic bricks. The Lego Group has also built several amusement parks around the world, each known as Legoland, and operates numerous retail stores. \n",
      "\n",
      "The company was founded on 10 August 1932 by Ole Kirk Christiansen. The name Lego is derived from the Danish words leg godt, meaning 'play well'. In the first half of 2015, The Lego Group became the world's largest toy company by revenue, with sales amounting to US$2.1 billion, surpassing Mattel, which had US$1.9 billion in sales. Niels B. Christiansen is the company's CEO, having assumed the position on 1 October 2017. \n",
      "\n",
      "History \n",
      "\n",
      "The history of Lego spans nearly 100 years, beginning with the creation of small wooden playthings during the early 20th century. Manufacturing of plastic Lego bricks began in Denmark in 1947, but since has grown to include factories throughout the world. \n",
      "\n",
      "In North America, Samsonite managed the Lego brand from 1961 until 1972 (United States) and 1986 (Canada). \n",
      "\n",
      "Legoland \n",
      "\n",
      "Amusement parks \n",
      "\n",
      "The Lego Group has built eight amusement parks around the world, each known as Legoland. Each park features large-scale Lego models of famous landmarks and miniature Lego models of famous cities, along with Lego themed rides. The first Legoland park was built in Lego's hometown of Billund in Denmark. This was followed by Legoland Windsor in England, Legoland California in Carlsbad, US and Legoland Deutschland in Günzburg, Germany. In addition, Legoland Sierksdorf was opened in 1973, but soon closed in 1976. \n",
      "\n",
      "In July 2005, the Lego Group announced that it had reached a deal with private investment company the Blackstone Group to sell all four parks for €375m to the Blackstone subsidiary Merlin Entertainments. Under the terms of the deal, The Lego Group would take a 30% share in Merlin Entertainments and positions on their board. The sale of the theme parks was part of a wider strategy to restructure the company to focus on the core business of toy products. \n",
      "\n",
      "In 2010, Merlin Entertainments opened the first Legoland water park at the Legoland California site. On 15 October 2011, Merlin Entertainments opened their first new Legoland park, Legoland Florida, in Winter Haven, Florida. It is the largest Legoland opened to date at 145 acres, and also only one of the Legoland parks opened in the United States. The other Legoland (opened at a later date) water park was opened near the same location on 26 May 2012 after only four months of construction. \n",
      "\n",
      "Merlin Entertainments opened their second new Legoland park in Nusajaya, Malaysia under the name Legoland Malaysia on 22 September 2012. It is the first Legoland in Asia and was quickly followed by another Lego-themed water park in the same area. The first Lego hotel has also opened near the site. People who stay in the hotel will also get tickets to the theme park and water park. \n",
      "\n",
      "Merlin Entertainments has also planned several new Legoland parks: Legoland Dubai, Legoland Nagoya (scheduled to open in 2015), and Legoland Korea (also scheduled to open in 2015). In addition, they have opened four new Legoland Discovery Centres, which take the Legoland concept and scale it down to suit a retail park environment. \n",
      "\n",
      "Retail stores \n",
      "\n",
      "The Lego Group operates 146 retail stores (83 in the United States, 17 in the United Kingdom, 11 in Germany, 10 in Canada, 7 in France, 2 in Spain, 2 in Austria, 2 in Italy, 2 in Serbia, 2 in Denmark, 1 in Belgium, 2 in China, 1 in Sweden, 1 in Poland, 1 in India, 1 in Lithuania and 3 in Mexico.). The Lego Group also franchised its store brand to Majid Al Futtaim Group, which opened 6 stores in 2015 (4 in the United Arab Emirates, and 2 in Kuwait). \n",
      "\n",
      "Europe \n",
      "\n",
      "October 2002 saw a significant change in The Lego Group's direct retail policy with the opening of the first so-called Lego Brand Store in Cologne, Germany. The second, in Milton Keynes, UK, followed quickly – several dozen more opened worldwide over the next few years, and most of the existing stores have been remodelled on the new Brand Store template. One of the distinctive features of these new stores is the inclusion of a 'Pick-A-Brick' system that allows customers to buy individual bricks in bulk quantities. How a customer buys Lego pieces at a Pick-A-Brick is quite simple: customers fill a large or small cup or bag with their choice of Lego bricks from a large and varied selection and purchase it. The opening of most of these stores, including the 2003 opening of one in the Birmingham Bull Ring shopping centre in England, have been marked by the production of a new, special, limited edition, commemorative Lego Duplo piece. Lego opened the first brand store in its home country Denmark in Copenhagen on 13 December 2010. There are two stores in Austria, one store in Belgium, twelve stores in Germany, thirteen stores in the United Kingdom, six stores in France, five stores in Spain, two stores in Serbia, one store in Sweden, one store in Denmark, and one store in Lithuania for a total of 41 stores in Europe. In 2016, three stores opened in Italy: one in Milan, one in the shopping center near the Orio al Serio International Airport in Bergamo, and another in Verona. In 2020, the total amount of Lego stores in Italy reached 14, covering from North to South. \n",
      "\n",
      "North America \n",
      "\n",
      "In 1992, when the Mall of America opened in Bloomington, Minnesota, one of its premier attractions was the Lego Imagination Center (LIC). An imagination centre is a large Lego store with displays of Lego sculptures and a play area with bins of bricks to build with. The store inventory includes a large selection of Lego sets for sale, including sets which are advertised in Lego catalogues as 'Not Available in Any Store'. A second imagination centre opened at the Disney Springs (formerly Downtown Disney) at Walt Disney World Resort in Orlando, Florida. Between 1999 and 2005, Lego opened 24 further stores in North America in 23 states. As of 2016, there are 90 Lego stores operating or soon-to-be operating in North America in 32 US states and five Canadian provinces. These stores sell various Lego merchandise, including minifigures, Pick-a-Brick, and custom packaged minifigures. \n",
      "\n",
      "India \n",
      "\n",
      "The first Lego store in India was opened in Chennai, Tamil Nadu in March 2014 by Funskool, under licence from the Lego Group. \n",
      "\n",
      "Toy production \n",
      "\n",
      "Lego products are mass-produced, packaged, and shipped on a large scale. \n",
      "\n",
      "Lego Produktion AG was a major production facility for Lego. It was founded in Switzerland in 1974. At the time of its announced closing in 2001, 30% of the world production of Lego was produced at the Swiss facility in Baar. The Baar facility eventually closed in 2004. \n",
      "\n",
      "In April 1962, the Lego Group began producing miniature tires; it became the largest tire manufacturing company in 2011, when it produced 381 million tires that year. \n",
      "\n",
      "Environmental issues \n",
      "\n",
      "Sustainable alternatives \n",
      "\n",
      "Lego acknowledges the impact of its operations on the environment, in particular in areas such as climate change, resource and energy use and waste. All manufacturing sites are certified according to the environmental standard ISO 14001. The first Borkum Riffgrund 1 wind turbines off the coast of Germany began producing electricity in February 2015, which will help The Lego Group reach its goal of being based 100% on renewable energy by 2020. The company claims to recycle 90% of its waste and that it had made its operations nearly one-third more energy efficient over the five-year period ending 31 December 2013. It is seeking alternatives to crude oil as the raw material for its bricks. This results in the establishment in June 2015 the Lego Sustainable Materials Centre, which is expected to recruit more than 100 employees, as a significant step towards the 2030 ambition of finding and implementing sustainable alternatives to current materials. \n",
      "\n",
      "Greenpeace \n",
      "\n",
      "In 2011, Lego bowed to pressure from the environmental campaigning organization Greenpeace, reportedly agreeing to drop supplier Asia Pulp and Paper, and pledging to only use packaging material certified by the Forest Stewardship Council in future. The environmental group had accused Lego, Hasbro, Mattel and Disney of using packaging material sourced from trees cleared out of the Indonesian rainforest. \n",
      "\n",
      "Shell \n",
      "\n",
      "Lego partnered with the oil company Royal Dutch Shell in the 1960s, using the company's logo in some of its construction sets. This partnership continued until the 1990s and was renewed again in 2011. In July 2014, Greenpeace launched a global campaign to persuade Lego to cease producing toys carrying the oil company Shell's logo in response to Shell's plans to drill for oil in the Arctic. Shell's PR company valued the most recent two-year deal with Lego at $116 million and reported that Shell achieved a 7.5% worldwide sales uplift during the promotion video from Iris International. Lego announced that when the latest contract between the two companies comes to an end it will not be renewing it. \n",
      "\n",
      "As of August 2014, more than 750,000 people worldwide had signed a Greenpeace petition asking Lego to end its partnership with Shell. Lego responded saying they 'expect that Shell lives up to their responsibilities wherever they operate' and that they 'intend to live up to the long term contract with Shell, which we entered into in 2011.' Meanwhile, Greenpeace produced a video campaigning against the Shell partnership; it received extensive press coverage and was viewed more than six million times on YouTube. In October 2014, Lego announced that it would not be renewing its promotional contract with Royal Dutch Shell but did not say when the existing deal with Shell expires. Greenpeace claimed the decision was in response to its campaigning. \n",
      "\n"
     ]
    }
   ],
   "source": [
    "for i in testl:\n",
    "    print(i,\"\\n\")"
   ]
  },
  {
   "cell_type": "markdown",
   "metadata": {},
   "source": [
    "### Extraction based summurazation"
   ]
  },
  {
   "cell_type": "code",
   "execution_count": 15,
   "metadata": {},
   "outputs": [],
   "source": [
    "article = \"Peter and Elizabeth took a taxi to attend the night party in the city. While in the party, Elizabeth collapsed and was rushed to the hospital. Since she was diagnosed with a brain injury, the doctor told Peter to stay besides her until she gets well. Therefore, Peter stayed with her at the hospital for 3 days without leaving.\""
   ]
  },
  {
   "cell_type": "code",
   "execution_count": 16,
   "metadata": {
    "scrolled": true
   },
   "outputs": [
    {
     "name": "stdout",
     "output_type": "stream",
     "text": [
      " While in the party, Elizabeth collapsed and was rushed to the hospital. Therefore, Peter stayed with her at the hospital for 3 days without leaving.\n"
     ]
    }
   ],
   "source": [
    "summary_results = _run_article_summary(article)\n",
    "print(summary_results)"
   ]
  },
  {
   "cell_type": "markdown",
   "metadata": {},
   "source": [
    "### Bix's NLP"
   ]
  },
  {
   "cell_type": "code",
   "execution_count": 17,
   "metadata": {},
   "outputs": [],
   "source": [
    "import gensim\n",
    "import collections\n",
    "\n",
    "import gensim.downloader as api\n",
    "\n",
    "from gensim.models import Word2Vec\n",
    "from gensim.summarization import summarize\n",
    "from gensim.parsing.preprocessing import remove_stopwords"
   ]
  },
  {
   "cell_type": "code",
   "execution_count": 18,
   "metadata": {},
   "outputs": [
    {
     "name": "stdout",
     "output_type": "stream",
     "text": [
      "▶ Peter and Elizabeth took a taxi to attend the night party in the city.\n",
      "Therefore, Peter stayed with her at the hospital for 3 days without leaving.\n"
     ]
    }
   ],
   "source": [
    "print(\"▶\",summarize(article, word_count=20))"
   ]
  },
  {
   "cell_type": "code",
   "execution_count": null,
   "metadata": {},
   "outputs": [],
   "source": []
  }
 ],
 "metadata": {
  "kernelspec": {
   "display_name": "Python 3",
   "language": "python",
   "name": "python3"
  },
  "language_info": {
   "codemirror_mode": {
    "name": "ipython",
    "version": 3
   },
   "file_extension": ".py",
   "mimetype": "text/x-python",
   "name": "python",
   "nbconvert_exporter": "python",
   "pygments_lexer": "ipython3",
   "version": "3.8.3"
  }
 },
 "nbformat": 4,
 "nbformat_minor": 4
}
