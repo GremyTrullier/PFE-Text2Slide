{
 "cells": [
  {
   "cell_type": "code",
   "execution_count": 1,
   "metadata": {},
   "outputs": [],
   "source": [
    "import os\n",
    "import json\n",
    "\n",
    "from enum import Enum\n",
    "from pptx.util import Inches\n",
    "from pptx import Presentation\n",
    "from pptx.enum.shapes import MSO_SHAPE"
   ]
  },
  {
   "cell_type": "code",
   "execution_count": 2,
   "metadata": {},
   "outputs": [],
   "source": [
    "filename = 'testjson2.pptx'\n",
    "imgpath = '../data/connard_de_virus.png'\n",
    "jsonpath = 'example.json'"
   ]
  },
  {
   "cell_type": "code",
   "execution_count": 3,
   "metadata": {},
   "outputs": [],
   "source": [
    "# Default Microsoft Office Slide Layouts\n",
    "class DefaultSlideLayouts(Enum):\n",
    "    TITLE_SLIDE = 0\n",
    "    TITLE_AND_CONTENT_SLIDE = 1\n",
    "    SECTION_HEADER = 2\n",
    "    TWO_CONTENT = 3\n",
    "    COMPARISON = 4\n",
    "    TITLE_ONLY = 5\n",
    "    BLANK = 6\n",
    "    CONTENT_WITH_CAPTION = 7\n",
    "    PICTURE_WITH_CAPTION = 8\n",
    "    TITLE_AND_VERTICAL_TEXT = 9\n",
    "    VERTICAL_TITLE_AND_TEXT = 10"
   ]
  },
  {
   "cell_type": "code",
   "execution_count": 4,
   "metadata": {},
   "outputs": [],
   "source": [
    "# Instantiate the Presentation\n",
    "pres = Presentation()"
   ]
  },
  {
   "cell_type": "code",
   "execution_count": 5,
   "metadata": {},
   "outputs": [],
   "source": [
    "with open(jsonpath) as fjson:\n",
    "    data = json.load(fjson)"
   ]
  },
  {
   "cell_type": "code",
   "execution_count": 6,
   "metadata": {},
   "outputs": [
    {
     "data": {
      "text/plain": [
       "{'document_name': 'example.json',\n",
       " 'document_content': [{'type': 'level_0',\n",
       "   'content': [{'type': 'title_0', 'content': ['Document title']},\n",
       "    {'type': 'plain_text',\n",
       "     'content': ['Lorem ipsum dolor sit amet, consectetur adipiscing elit. Fusce diam ipsum, aliquam sit amet tempor sed, sodales vitae tellus. Fusce vitae lobortis quam. Proin laoreet efficitur ligula, laoreet congue neque condimentum a']}]},\n",
       "  {'type': 'level_1',\n",
       "   'content': [{'type': 'title_1', 'content': ['Part 1']},\n",
       "    {'type': 'plain_text',\n",
       "     'content': ['Lorem ipsum dolor sit amet, consectetur adipiscing elit. Fusce diam ipsum, aliquam sit amet tempor sed.']},\n",
       "    {'type': 'level_2',\n",
       "     'content': [{'type': 'title_2', 'content': ['Part 1-1']},\n",
       "      {'type': 'plain_text',\n",
       "       'content': ['Lorem ipsum dolor sit amet, consectetur adipiscing elit. Fusce diam ipsum, aliquam sit amet tempor sed, sodales vitae tellus.',\n",
       "        'Nulla odio nibh, aliquam sit amet eros a, vehicula eleifend tortor. Sed interdum tellus eu convallis pretium. Proin euismod felis id tortor semper, vel vehicula quam dapibus.']}]},\n",
       "    {'type': 'level_2',\n",
       "     'content': [{'type': 'title_2', 'content': ['Part 1-2']},\n",
       "      {'type': 'plain_text',\n",
       "       'content': ['Lorem ipsum dolor sit amet, consectetur adipiscing elit. Fusce diam ipsum, aliquam sit amet tempor sed, sodales vitae tellus.',\n",
       "        'Nulla odio nibh, aliquam sit amet eros a, vehicula eleifend tortor.']}]}]},\n",
       "  {'type': 'level_1',\n",
       "   'content': [{'type': 'title_1', 'content': ['Part 2']},\n",
       "    {'type': 'level_2',\n",
       "     'content': [{'type': 'title_2', 'content': ['Part 2-1']},\n",
       "      {'type': 'plain_text',\n",
       "       'content': ['Lorem ipsum dolor sit amet, consectetur adipiscing elit. Fusce diam ipsum, aliquam sit amet tempor sed, sodales vitae tellus.']}]},\n",
       "    {'type': 'level_2',\n",
       "     'content': [{'type': 'title_2', 'content': ['Part 2-2']},\n",
       "      {'type': 'plain_text',\n",
       "       'content': ['Lorem ipsum dolor sit amet, consectetur adipiscing elit. Fusce diam ipsum, aliquam sit amet tempor sed, sodales vitae tellus. Nulla odio nibh, aliquam sit amet eros a, vehicula eleifend tortor.']},\n",
       "      {'type': 'level_3',\n",
       "       'content': [{'type': 'title_3', 'content': ['Part 2-2-1']},\n",
       "        {'type': 'plain_text',\n",
       "         'content': ['Lorem ipsum dolor sit amet, consectetur adipiscing elit.',\n",
       "          'Deuxieme texte']}]}]}]}]}"
      ]
     },
     "execution_count": 6,
     "metadata": {},
     "output_type": "execute_result"
    }
   ],
   "source": [
    "data"
   ]
  },
  {
   "cell_type": "code",
   "execution_count": 7,
   "metadata": {},
   "outputs": [
    {
     "name": "stdout",
     "output_type": "stream",
     "text": [
      "{'type': 'level_0', 'content': [{'type': 'title_0', 'content': ['Document title']}, {'type': 'plain_text', 'content': ['Lorem ipsum dolor sit amet, consectetur adipiscing elit. Fusce diam ipsum, aliquam sit amet tempor sed, sodales vitae tellus. Fusce vitae lobortis quam. Proin laoreet efficitur ligula, laoreet congue neque condimentum a']}]} \n",
      "\n",
      "{'type': 'level_1', 'content': [{'type': 'title_1', 'content': ['Part 1']}, {'type': 'plain_text', 'content': ['Lorem ipsum dolor sit amet, consectetur adipiscing elit. Fusce diam ipsum, aliquam sit amet tempor sed.']}, {'type': 'level_2', 'content': [{'type': 'title_2', 'content': ['Part 1-1']}, {'type': 'plain_text', 'content': ['Lorem ipsum dolor sit amet, consectetur adipiscing elit. Fusce diam ipsum, aliquam sit amet tempor sed, sodales vitae tellus.', 'Nulla odio nibh, aliquam sit amet eros a, vehicula eleifend tortor. Sed interdum tellus eu convallis pretium. Proin euismod felis id tortor semper, vel vehicula quam dapibus.']}]}, {'type': 'level_2', 'content': [{'type': 'title_2', 'content': ['Part 1-2']}, {'type': 'plain_text', 'content': ['Lorem ipsum dolor sit amet, consectetur adipiscing elit. Fusce diam ipsum, aliquam sit amet tempor sed, sodales vitae tellus.', 'Nulla odio nibh, aliquam sit amet eros a, vehicula eleifend tortor.']}]}]} \n",
      "\n",
      "{'type': 'level_1', 'content': [{'type': 'title_1', 'content': ['Part 2']}, {'type': 'level_2', 'content': [{'type': 'title_2', 'content': ['Part 2-1']}, {'type': 'plain_text', 'content': ['Lorem ipsum dolor sit amet, consectetur adipiscing elit. Fusce diam ipsum, aliquam sit amet tempor sed, sodales vitae tellus.']}]}, {'type': 'level_2', 'content': [{'type': 'title_2', 'content': ['Part 2-2']}, {'type': 'plain_text', 'content': ['Lorem ipsum dolor sit amet, consectetur adipiscing elit. Fusce diam ipsum, aliquam sit amet tempor sed, sodales vitae tellus. Nulla odio nibh, aliquam sit amet eros a, vehicula eleifend tortor.']}, {'type': 'level_3', 'content': [{'type': 'title_3', 'content': ['Part 2-2-1']}, {'type': 'plain_text', 'content': ['Lorem ipsum dolor sit amet, consectetur adipiscing elit.', 'Deuxieme texte']}]}]}]} \n",
      "\n"
     ]
    }
   ],
   "source": [
    "json_slides = data['document_content']\n",
    "for elem in json_slides:\n",
    "    print(elem, \"\\n\") "
   ]
  },
  {
   "cell_type": "code",
   "execution_count": 8,
   "metadata": {},
   "outputs": [
    {
     "name": "stdout",
     "output_type": "stream",
     "text": [
      "level_0\n",
      "title_0\n",
      "Document title\n",
      "plain_text\n",
      "Lorem ipsum dolor sit amet, consectetur adipiscing elit. Fusce diam ipsum, aliquam sit amet tempor sed, sodales vitae tellus. Fusce vitae lobortis quam. Proin laoreet efficitur ligula, laoreet congue neque condimentum a\n",
      "level_1\n",
      "title_1\n",
      "Part 1\n",
      "plain_text\n",
      "Lorem ipsum dolor sit amet, consectetur adipiscing elit. Fusce diam ipsum, aliquam sit amet tempor sed.\n",
      "level_2\n",
      "title_2\n",
      "Part 1-1\n",
      "plain_text\n",
      "Lorem ipsum dolor sit amet, consectetur adipiscing elit. Fusce diam ipsum, aliquam sit amet tempor sed, sodales vitae tellus.\n",
      "Nulla odio nibh, aliquam sit amet eros a, vehicula eleifend tortor. Sed interdum tellus eu convallis pretium. Proin euismod felis id tortor semper, vel vehicula quam dapibus.\n",
      "level_2\n",
      "title_2\n",
      "Part 1-2\n",
      "plain_text\n",
      "Lorem ipsum dolor sit amet, consectetur adipiscing elit. Fusce diam ipsum, aliquam sit amet tempor sed, sodales vitae tellus.\n",
      "Nulla odio nibh, aliquam sit amet eros a, vehicula eleifend tortor.\n",
      "level_1\n",
      "title_1\n",
      "Part 2\n",
      "level_2\n",
      "title_2\n",
      "Part 2-1\n",
      "plain_text\n",
      "Lorem ipsum dolor sit amet, consectetur adipiscing elit. Fusce diam ipsum, aliquam sit amet tempor sed, sodales vitae tellus.\n",
      "level_2\n",
      "title_2\n",
      "Part 2-2\n",
      "plain_text\n",
      "Lorem ipsum dolor sit amet, consectetur adipiscing elit. Fusce diam ipsum, aliquam sit amet tempor sed, sodales vitae tellus. Nulla odio nibh, aliquam sit amet eros a, vehicula eleifend tortor.\n",
      "level_3\n",
      "title_3\n",
      "Part 2-2-1\n",
      "plain_text\n",
      "Lorem ipsum dolor sit amet, consectetur adipiscing elit.\n",
      "Deuxieme texte\n"
     ]
    }
   ],
   "source": [
    "def breakdown_json(list_slides, l):\n",
    "    \"\"\"\n",
    "    Function that read a json file and recursively break down its elements to return them in a list\n",
    "    Parameters:\n",
    "        - list_slides : list of data in json format\n",
    "        - l : the list to be returned\n",
    "    \"\"\"\n",
    "    if (type(list_slides) == type(list())):\n",
    "        for value in list_slides:\n",
    "            if type(value) == type(str()):\n",
    "                l.append(value)\n",
    "            else:\n",
    "                breakdown_json(value, l)\n",
    "    elif (type(list_slides) == type(dict())):\n",
    "        for key,value in list_slides.items():\n",
    "            if type(value) == type(str()):\n",
    "                l.append(value)\n",
    "            else:\n",
    "                breakdown_json(value, l)\n",
    "    else:\n",
    "        print(type(list_slides))\n",
    "\n",
    "slide_elements = []\n",
    "breakdown_json(json_slides, slide_elements)\n",
    "for i in slide_elements:\n",
    "    print(i)"
   ]
  },
  {
   "cell_type": "code",
   "execution_count": 9,
   "metadata": {
    "scrolled": true
   },
   "outputs": [
    {
     "data": {
      "text/plain": [
       "[['level_0',\n",
       "  'title_0',\n",
       "  'Document title',\n",
       "  'plain_text',\n",
       "  'Lorem ipsum dolor sit amet, consectetur adipiscing elit. Fusce diam ipsum, aliquam sit amet tempor sed, sodales vitae tellus. Fusce vitae lobortis quam. Proin laoreet efficitur ligula, laoreet congue neque condimentum a'],\n",
       " ['level_1',\n",
       "  'title_1',\n",
       "  'Part 1',\n",
       "  'plain_text',\n",
       "  'Lorem ipsum dolor sit amet, consectetur adipiscing elit. Fusce diam ipsum, aliquam sit amet tempor sed.'],\n",
       " ['level_2',\n",
       "  'title_2',\n",
       "  'Part 1-1',\n",
       "  'plain_text',\n",
       "  'Lorem ipsum dolor sit amet, consectetur adipiscing elit. Fusce diam ipsum, aliquam sit amet tempor sed, sodales vitae tellus.',\n",
       "  'Nulla odio nibh, aliquam sit amet eros a, vehicula eleifend tortor. Sed interdum tellus eu convallis pretium. Proin euismod felis id tortor semper, vel vehicula quam dapibus.'],\n",
       " ['level_2',\n",
       "  'title_2',\n",
       "  'Part 1-2',\n",
       "  'plain_text',\n",
       "  'Lorem ipsum dolor sit amet, consectetur adipiscing elit. Fusce diam ipsum, aliquam sit amet tempor sed, sodales vitae tellus.',\n",
       "  'Nulla odio nibh, aliquam sit amet eros a, vehicula eleifend tortor.'],\n",
       " ['level_1', 'title_1', 'Part 2'],\n",
       " ['level_2',\n",
       "  'title_2',\n",
       "  'Part 2-1',\n",
       "  'plain_text',\n",
       "  'Lorem ipsum dolor sit amet, consectetur adipiscing elit. Fusce diam ipsum, aliquam sit amet tempor sed, sodales vitae tellus.'],\n",
       " ['level_2',\n",
       "  'title_2',\n",
       "  'Part 2-2',\n",
       "  'plain_text',\n",
       "  'Lorem ipsum dolor sit amet, consectetur adipiscing elit. Fusce diam ipsum, aliquam sit amet tempor sed, sodales vitae tellus. Nulla odio nibh, aliquam sit amet eros a, vehicula eleifend tortor.'],\n",
       " ['level_3',\n",
       "  'title_3',\n",
       "  'Part 2-2-1',\n",
       "  'plain_text',\n",
       "  'Lorem ipsum dolor sit amet, consectetur adipiscing elit.',\n",
       "  'Deuxieme texte']]"
      ]
     },
     "execution_count": 9,
     "metadata": {},
     "output_type": "execute_result"
    }
   ],
   "source": [
    "def build_slide_content(slide_elements):\n",
    "    slide_contents = []\n",
    "    sub_list = []\n",
    "    for element in slide_elements:\n",
    "        if(element.split('_')[0] == 'level'):\n",
    "            slide_contents.append(sub_list)\n",
    "            sub_list = []\n",
    "        sub_list.append(element)\n",
    "        \n",
    "    slide_contents.append(sub_list)\n",
    "        \n",
    "    return slide_contents[1:]\n",
    "\n",
    "slide_contents = build_slide_content(slide_elements)\n",
    "slide_contents"
   ]
  },
  {
   "cell_type": "code",
   "execution_count": 10,
   "metadata": {
    "scrolled": true
   },
   "outputs": [
    {
     "name": "stdout",
     "output_type": "stream",
     "text": [
      "title_2\n",
      "Part 1-1\n",
      "plain_text\n",
      "Lorem ipsum dolor sit amet, consectetur adipiscing elit. Fusce diam ipsum, aliquam sit amet tempor sed, sodales vitae tellus.\n",
      "Nulla odio nibh, aliquam sit amet eros a, vehicula eleifend tortor. Sed interdum tellus eu convallis pretium. Proin euismod felis id tortor semper, vel vehicula quam dapibus.\n"
     ]
    }
   ],
   "source": [
    "slide_0 = slide_contents[0]\n",
    "slide_1 = slide_contents[1]\n",
    "slide_2 = slide_contents[2]\n",
    "slide_3 = slide_contents[3]\n",
    "slide_4 = slide_contents[4]\n",
    "slide_5 = slide_contents[5]\n",
    "slide_6 = slide_contents[6]\n",
    "slide_7 = slide_contents[7]\n",
    "for content in slide_2[1:]:\n",
    "    print(content)"
   ]
  },
  {
   "cell_type": "code",
   "execution_count": 11,
   "metadata": {},
   "outputs": [],
   "source": [
    "def create_title_slide(slide_content, pres):\n",
    "    slide_layout = pres.slide_layouts[DefaultSlideLayouts['TITLE_SLIDE'].value]\n",
    "    slide = pres.slides.add_slide(slide_layout)\n",
    "    \n",
    "    for i, content in enumerate(slide_content):\n",
    "        # set the title\n",
    "        if ('title_' in content):\n",
    "            try:\n",
    "                print(content, slide_content[i+1])\n",
    "                title = slide.shapes.title\n",
    "                title.text = slide_content[i+1]\n",
    "            except IndexError:\n",
    "                print('The title is empty. Check the slide content.')\n",
    "                for content in slide_content:\n",
    "                    print(content)\n",
    "            except:\n",
    "                print(\"This slide has no title placeholder.\")\n",
    "        # logically, the rest of the slide should be a subtitle\n",
    "        elif (\"plain_text\" in content):\n",
    "            try:\n",
    "                print(content, slide_content[i+1])\n",
    "                slide.placeholders[1].text = \"\\n\".join(slide_content[i+1:])\n",
    "            except IndexError:\n",
    "                print('The text is empty. Check the slide content.')\n",
    "                for content in slide_content:\n",
    "                    print(content)\n",
    "            except:\n",
    "                print(\"This slide has no such placeholder.\")\n",
    "            \n",
    "    return pres    \n",
    "\n",
    "#create_title_slide(slide_0[1:], pres)"
   ]
  },
  {
   "cell_type": "code",
   "execution_count": 12,
   "metadata": {},
   "outputs": [],
   "source": [
    "def create_section_header_slide(slide_content, pres):\n",
    "    slide_layout = pres.slide_layouts[DefaultSlideLayouts['SECTION_HEADER'].value]\n",
    "    slide = pres.slides.add_slide(slide_layout)\n",
    "    \n",
    "    for i, content in enumerate(slide_content):\n",
    "        # set the title\n",
    "        if ('title_' in content):\n",
    "            try:\n",
    "                print(content, slide_content[i+1])\n",
    "                title = slide.shapes.title\n",
    "                title.text = slide_content[i+1]\n",
    "            except IndexError:\n",
    "                print('The title is empty. Check the slide content.')\n",
    "                for content in slide_content:\n",
    "                    print(content)\n",
    "            except:\n",
    "                print(\"This slide has no title placeholder.\")\n",
    "        \n",
    "        # logically, the rest of the slide should be subheader\n",
    "        elif (\"plain_text\" in content):\n",
    "            try:\n",
    "                print(content, slide_content[i+1])\n",
    "                slide.placeholders[1].text = \"\\n\".join(slide_content[i+1:])\n",
    "            except IndexError:\n",
    "                print('The text is empty. Check the slide content.')\n",
    "                for content in slide_content:\n",
    "                    print(content)\n",
    "            except:\n",
    "                print(\"This slide has no such placeholder.\")\n",
    "            \n",
    "    return pres\n",
    "    \n",
    "#create_section_header_slide(slide_1[1:], pres)"
   ]
  },
  {
   "cell_type": "code",
   "execution_count": 13,
   "metadata": {},
   "outputs": [],
   "source": [
    "def create_title_and_content_slide(slide_content, pres):\n",
    "    slide_layout = pres.slide_layouts[DefaultSlideLayouts['TITLE_AND_CONTENT_SLIDE'].value]\n",
    "    slide = pres.slides.add_slide(slide_layout)\n",
    "    \n",
    "    for i, content in enumerate(slide_content):\n",
    "        # set the title\n",
    "        if ('title_' in content):\n",
    "            try:\n",
    "                print(content, slide_content[i+1])\n",
    "                title = slide.shapes.title\n",
    "                title.text = slide_content[i+1]\n",
    "            except IndexError:\n",
    "                print('The title is empty. Check the slide content.')\n",
    "                for content in slide_content:\n",
    "                    print(content)\n",
    "            except:\n",
    "                print(\"This slide has no title placeholder.\")\n",
    "        \n",
    "        # logically, the rest of the slide should be plain text\n",
    "        elif (\"plain_text\" in content):\n",
    "            try:\n",
    "                print(content, slide_content[i+1])\n",
    "                slide.placeholders[1].text = \"\\n\".join(slide_content[i+1:])\n",
    "            except IndexError:\n",
    "                print('The text is empty. Check the slide content.')\n",
    "                for content in slide_content:\n",
    "                    print(content)\n",
    "            except:\n",
    "                print(\"This slide has no such placeholder.\")\n",
    "            \n",
    "    return pres\n",
    "    \n",
    "#create_title_and_content_slide(slide_2[1:], pres)"
   ]
  },
  {
   "cell_type": "code",
   "execution_count": 14,
   "metadata": {},
   "outputs": [],
   "source": [
    "def create_two_content_slide(slide_content, pres):\n",
    "    slide_layout = pres.slide_layouts[DefaultSlideLayouts['TWO_CONTENT'].value]\n",
    "    slide = pres.slides.add_slide(slide_layout)\n",
    "\n",
    "def create_comparison_slide(slide_content, pres):\n",
    "    slide_layout = pres.slide_layouts[DefaultSlideLayouts['COMPARISON'].value]\n",
    "    slide = pres.slides.add_slide(slide_layout)\n",
    "\n",
    "def create_title_only_slide(slide_content, pres):\n",
    "    slide_layout = pres.slide_layouts[DefaultSlideLayouts['TITLE_ONLY'].value]\n",
    "    slide = pres.slides.add_slide(slide_layout)\n",
    "\n",
    "def create_blank_slide(slide_content, pres):\n",
    "    slide_layout = pres.slide_layouts[DefaultSlideLayouts['BLANK'].value]\n",
    "    slide = pres.slides.add_slide(slide_layout)\n",
    "\n",
    "def create_content_with_caption_slide(slide_content, pres):\n",
    "    slide_layout = pres.slide_layouts[DefaultSlideLayouts['CONTENT_WITH_CAPTION'].value]\n",
    "    slide = pres.slides.add_slide(slide_layout)\n",
    "\n",
    "def picture_with_caption_slide(slide_content, pres):\n",
    "    slide_layout = pres.slide_layouts[DefaultSlideLayouts['PICTURE_WITH_CAPTION'].value]\n",
    "    slide = pres.slides.add_slide(slide_layout)\n",
    "\n",
    "def create_title_and_vertical_text_slide(slide_content, pres):\n",
    "    slide_layout = pres.slide_layouts[DefaultSlideLayouts['TITLE_AND_VERTICAL_TEXT'].value]\n",
    "    slide = pres.slides.add_slide(slide_layout)\n",
    "\n",
    "def create_vertical_title_and_text_slide(slide_content, pres):\n",
    "    slide_layout = pres.slide_layouts[DefaultSlideLayouts['VERTICAL_TITLE_AND_TEXT'].value]\n",
    "    slide = pres.slides.add_slide(slide_layout)"
   ]
  },
  {
   "cell_type": "code",
   "execution_count": 15,
   "metadata": {},
   "outputs": [
    {
     "name": "stdout",
     "output_type": "stream",
     "text": [
      "Creating a title slide\n",
      "\n",
      "title_0 Document title\n",
      "plain_text Lorem ipsum dolor sit amet, consectetur adipiscing elit. Fusce diam ipsum, aliquam sit amet tempor sed, sodales vitae tellus. Fusce vitae lobortis quam. Proin laoreet efficitur ligula, laoreet congue neque condimentum a\n",
      "Creating a section header slide\n",
      "\n",
      "title_1 Part 1\n",
      "plain_text Lorem ipsum dolor sit amet, consectetur adipiscing elit. Fusce diam ipsum, aliquam sit amet tempor sed.\n",
      "Creating a title and content slide\n",
      "\n",
      "title_2 Part 1-1\n",
      "plain_text Lorem ipsum dolor sit amet, consectetur adipiscing elit. Fusce diam ipsum, aliquam sit amet tempor sed, sodales vitae tellus.\n",
      "Creating a title and content slide\n",
      "\n",
      "title_2 Part 1-2\n",
      "plain_text Lorem ipsum dolor sit amet, consectetur adipiscing elit. Fusce diam ipsum, aliquam sit amet tempor sed, sodales vitae tellus.\n",
      "Creating a section header slide\n",
      "\n",
      "title_1 Part 2\n",
      "Creating a title and content slide\n",
      "\n",
      "title_2 Part 2-1\n",
      "plain_text Lorem ipsum dolor sit amet, consectetur adipiscing elit. Fusce diam ipsum, aliquam sit amet tempor sed, sodales vitae tellus.\n",
      "Creating a title and content slide\n",
      "\n",
      "title_2 Part 2-2\n",
      "plain_text Lorem ipsum dolor sit amet, consectetur adipiscing elit. Fusce diam ipsum, aliquam sit amet tempor sed, sodales vitae tellus. Nulla odio nibh, aliquam sit amet eros a, vehicula eleifend tortor.\n",
      "Creating a title and content slide\n",
      "\n",
      "title_3 Part 2-2-1\n",
      "plain_text Lorem ipsum dolor sit amet, consectetur adipiscing elit.\n"
     ]
    },
    {
     "data": {
      "text/plain": [
       "<pptx.presentation.Presentation at 0x19eb6efe580>"
      ]
     },
     "execution_count": 15,
     "metadata": {},
     "output_type": "execute_result"
    }
   ],
   "source": [
    "def detect_layout_and_create_slide(slide_contents, pres):\n",
    "    for slide_content in slide_contents:\n",
    "        if (int(slide_content[0].split(\"_\")[1]) == 0):\n",
    "            print(\"Creating a title slide\\n\")\n",
    "            create_title_slide(slide_content, pres)\n",
    "        elif (int(slide_content[0].split(\"_\")[1]) == 1):\n",
    "            print(\"Creating a section header slide\\n\")\n",
    "            create_section_header_slide(slide_content, pres)\n",
    "        elif (int(slide_content[0].split(\"_\")[1]) >= 2):\n",
    "            print(\"Creating a title and content slide\\n\")\n",
    "            create_title_and_content_slide(slide_content, pres)\n",
    "        else:\n",
    "            print(\"Slide layout unknown\")\n",
    "    \n",
    "    return pres\n",
    "        \n",
    "detect_layout_and_create_slide(slide_contents, pres)\n",
    "    "
   ]
  },
  {
   "cell_type": "code",
   "execution_count": 16,
   "metadata": {},
   "outputs": [],
   "source": [
    "pres.save(filename)"
   ]
  },
  {
   "cell_type": "code",
   "execution_count": 17,
   "metadata": {},
   "outputs": [],
   "source": [
    "os.startfile(filename)"
   ]
  },
  {
   "cell_type": "raw",
   "metadata": {},
   "source": [
    "# function not used rn\n",
    "\n",
    "tags = ['level', 'title_0', 'plain_text']\n",
    "\n",
    "def create_slide_from_list(slide_content, pres):\n",
    "    \n",
    "    # first tag is always the level\n",
    "    print(\"Slide of level\",slide_content[0][-1])\n",
    "    slide_layout = pres.slide_layouts[DefaultSlideLayouts(int(slide_content[0][-1])).value]\n",
    "    slide = pres.slides.add_slide(slide_layout)\n",
    "    \n",
    "    for i,content in enumerate(slide_content[1:],1):\n",
    "        for tag in tags:\n",
    "            if (tag in content):\n",
    "                print(\"\\tFound tag\", tag,\"for content\",content)\n",
    "                if (tag == 'title_0'):\n",
    "                    # giving a title to slide\n",
    "                    print(\"give a title to slide\")\n",
    "                    try:\n",
    "                        title = slide.shapes.title\n",
    "                        title.text = slide_content[i+1]\n",
    "                        print('sucess')\n",
    "                    except:\n",
    "                        print(\"failure\")\n",
    "                        pass\n",
    "                if (tag == 'plain_text'):\n",
    "                    text_frame = shape.text_frame\n",
    "                    text_frame.text = content[i+1]\n",
    "                break\n",
    "            else:\n",
    "                print(content,\"does not contain\", tag)\n",
    "    \n",
    "    return pres\n",
    "\n",
    "create_slide_from_list(slide_0, pres)"
   ]
  }
 ],
 "metadata": {
  "kernelspec": {
   "display_name": "Python 3",
   "language": "python",
   "name": "python3"
  },
  "language_info": {
   "codemirror_mode": {
    "name": "ipython",
    "version": 3
   },
   "file_extension": ".py",
   "mimetype": "text/x-python",
   "name": "python",
   "nbconvert_exporter": "python",
   "pygments_lexer": "ipython3",
   "version": "3.8.3"
  }
 },
 "nbformat": 4,
 "nbformat_minor": 4
}
