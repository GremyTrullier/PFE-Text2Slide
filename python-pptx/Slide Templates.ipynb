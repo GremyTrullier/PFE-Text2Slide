{
 "cells": [
  {
   "cell_type": "code",
   "execution_count": 1,
   "metadata": {},
   "outputs": [],
   "source": [
    "import os\n",
    "import json\n",
    "\n",
    "from enum import Enum\n",
    "from pptx.util import Inches\n",
    "from pptx import Presentation\n",
    "from pptx.enum.shapes import MSO_SHAPE"
   ]
  },
  {
   "cell_type": "code",
   "execution_count": 2,
   "metadata": {},
   "outputs": [],
   "source": [
    "filename = 'testjson.pptx'\n",
    "imgpath = '../data/connard_de_virus.png'\n",
    "jsonpath = 'jsonppt.json'"
   ]
  },
  {
   "cell_type": "code",
   "execution_count": 3,
   "metadata": {},
   "outputs": [],
   "source": [
    "# Default Microsoft Office Slide Layouts\n",
    "class DefaultSlideLayouts(Enum):\n",
    "    TITLE_SLIDE = 0\n",
    "    TITLE_AND_CONTENT_SLIDE = 1\n",
    "    SECTION_HEADER = 2\n",
    "    TWO_CONTENT = 3\n",
    "    COMPARISON = 4\n",
    "    TITLE_ONLY = 5\n",
    "    BLANK = 6\n",
    "    CONTENT_WITH_CAPTION = 7\n",
    "    PICTURE_WITH_CAPTION = 8\n",
    "    TITLE_AND_VERTICAL_TEXT = 9\n",
    "    VERTICAL_TITLE_AND_TEXT = 10"
   ]
  },
  {
   "cell_type": "code",
   "execution_count": 4,
   "metadata": {},
   "outputs": [],
   "source": [
    "# Instantiate the Presentation\n",
    "pres = Presentation()"
   ]
  },
  {
   "cell_type": "code",
   "execution_count": 5,
   "metadata": {},
   "outputs": [],
   "source": [
    "with open(jsonpath) as fjson:\n",
    "    data = json.load(fjson)"
   ]
  },
  {
   "cell_type": "code",
   "execution_count": 6,
   "metadata": {},
   "outputs": [
    {
     "data": {
      "text/plain": [
       "{'presentation_name': 'example.pptx',\n",
       " 'presentation_content': [{'type': 'title_slide',\n",
       "   'content': [{'type': 'title0', 'content': ['Document title']},\n",
       "    {'type': 'text',\n",
       "     'content': ['Lorem ipsum dolor sit amet, consectetur adipiscing elit. Fusce diam ipsum, aliquam sit amet tempor sed, sodales vitae tellus. Fusce vitae lobortis quam. Proin laoreet efficitur ligula, laoreet congue neque condimentum a']}]},\n",
       "  {'type': 'title_and_content_slide',\n",
       "   'content': [{'type': 'title1', 'content': ['Part 1']},\n",
       "    {'type': 'text',\n",
       "     'content': ['Lorem ipsum dolor sit amet, consectetur adipiscing elit. Fusce diam ipsum, aliquam sit amet tempor sed.']}]},\n",
       "  {'type': 'title_and_content_slide',\n",
       "   'content': [{'type': 'title2', 'content': ['Part 1-1']},\n",
       "    {'type': 'text',\n",
       "     'content': ['Lorem ipsum dolor sit amet, consectetur adipiscing elit. Fusce diam ipsum, aliquam sit amet tempor sed, sodales vitae tellus.',\n",
       "      'Nulla odio nibh, aliquam sit amet eros a, vehicula eleifend tortor. Sed interdum tellus eu convallis pretium. Proin euismod felis id tortor semper, vel vehicula quam dapibus.']}]},\n",
       "  {'type': 'title_and_content_slide',\n",
       "   'content': [{'type': 'title2', 'content': ['Part 1-2']},\n",
       "    {'type': 'text',\n",
       "     'content': ['Lorem ipsum dolor sit amet, consectetur adipiscing elit. Fusce diam ipsum, aliquam sit amet tempor sed, sodales vitae tellus.',\n",
       "      'Nulla odio nibh, aliquam sit amet eros a, vehicula eleifend tortor.']}]},\n",
       "  {'type': 'section_header',\n",
       "   'content': [{'type': 'title1', 'content': ['Part 2']}]},\n",
       "  {'type': 'title_and_content_slide',\n",
       "   'content': [{'type': 'title2', 'content': ['Part 2-1']},\n",
       "    {'type': 'text',\n",
       "     'content': ['Lorem ipsum dolor sit amet, consectetur adipiscing elit. Fusce diam ipsum, aliquam sit amet tempor sed, sodales vitae tellus.']}]},\n",
       "  {'type': 'title_and_content_slide',\n",
       "   'content': [{'type': 'title2', 'content': ['Part 2-2']},\n",
       "    {'type': 'text',\n",
       "     'content': ['Lorem ipsum dolor sit amet, consectetur adipiscing elit. Fusce diam ipsum, aliquam sit amet tempor sed, sodales vitae tellus. Nulla odio nibh, aliquam sit amet eros a, vehicula eleifend tortor.']}]},\n",
       "  {'type': 'title_and_content_slide',\n",
       "   'content': [{'type': 'title3', 'content': ['Part 2-2-1']},\n",
       "    {'type': 'text',\n",
       "     'content': ['Lorem ipsum dolor sit amet, consectetur adipiscing elit.']}]}]}"
      ]
     },
     "execution_count": 6,
     "metadata": {},
     "output_type": "execute_result"
    }
   ],
   "source": [
    "data"
   ]
  },
  {
   "cell_type": "code",
   "execution_count": 7,
   "metadata": {},
   "outputs": [
    {
     "name": "stdout",
     "output_type": "stream",
     "text": [
      "Document title\n",
      "Lorem ipsum dolor sit amet, consectetur adipiscing elit. Fusce diam ipsum, aliquam sit amet tempor sed, sodales vitae tellus. Fusce vitae lobortis quam. Proin laoreet efficitur ligula, laoreet congue neque condimentum a\n",
      "\n",
      "Part 1\n",
      "Lorem ipsum dolor sit amet, consectetur adipiscing elit. Fusce diam ipsum, aliquam sit amet tempor sed.\n",
      "\n",
      "Part 1-1\n",
      "Lorem ipsum dolor sit amet, consectetur adipiscing elit. Fusce diam ipsum, aliquam sit amet tempor sed, sodales vitae tellus.\n",
      "Nulla odio nibh, aliquam sit amet eros a, vehicula eleifend tortor. Sed interdum tellus eu convallis pretium. Proin euismod felis id tortor semper, vel vehicula quam dapibus.\n",
      "\n",
      "Part 1-2\n",
      "Lorem ipsum dolor sit amet, consectetur adipiscing elit. Fusce diam ipsum, aliquam sit amet tempor sed, sodales vitae tellus.\n",
      "Nulla odio nibh, aliquam sit amet eros a, vehicula eleifend tortor.\n",
      "\n",
      "Part 2\n",
      "\n",
      "Part 2-1\n",
      "Lorem ipsum dolor sit amet, consectetur adipiscing elit. Fusce diam ipsum, aliquam sit amet tempor sed, sodales vitae tellus.\n",
      "\n",
      "Part 2-2\n",
      "Lorem ipsum dolor sit amet, consectetur adipiscing elit. Fusce diam ipsum, aliquam sit amet tempor sed, sodales vitae tellus. Nulla odio nibh, aliquam sit amet eros a, vehicula eleifend tortor.\n",
      "\n",
      "Part 2-2-1\n",
      "Lorem ipsum dolor sit amet, consectetur adipiscing elit.\n",
      "\n"
     ]
    }
   ],
   "source": [
    "json_slides = data['presentation_content']\n",
    "\n",
    "for slide in json_slides:\n",
    "    for bigcontent in slide['content']:\n",
    "        for content in bigcontent['content']:\n",
    "            print(content)\n",
    "    print()"
   ]
  },
  {
   "cell_type": "code",
   "execution_count": 8,
   "metadata": {},
   "outputs": [
    {
     "data": {
      "text/plain": [
       "{'type': 'title_slide',\n",
       " 'content': [{'type': 'title0', 'content': ['Document title']},\n",
       "  {'type': 'text',\n",
       "   'content': ['Lorem ipsum dolor sit amet, consectetur adipiscing elit. Fusce diam ipsum, aliquam sit amet tempor sed, sodales vitae tellus. Fusce vitae lobortis quam. Proin laoreet efficitur ligula, laoreet congue neque condimentum a']}]}"
      ]
     },
     "execution_count": 8,
     "metadata": {},
     "output_type": "execute_result"
    }
   ],
   "source": [
    "first_slide = json_slides[0]\n",
    "first_slide"
   ]
  },
  {
   "cell_type": "code",
   "execution_count": 9,
   "metadata": {},
   "outputs": [
    {
     "name": "stdout",
     "output_type": "stream",
     "text": [
      "[{'type': 'title0', 'content': ['Document title']}, {'type': 'text', 'content': ['Lorem ipsum dolor sit amet, consectetur adipiscing elit. Fusce diam ipsum, aliquam sit amet tempor sed, sodales vitae tellus. Fusce vitae lobortis quam. Proin laoreet efficitur ligula, laoreet congue neque condimentum a']}]\n",
      "\n",
      "Title\n",
      "title0\n",
      "['Document title']\n",
      "\n",
      "Text\n",
      "text\n",
      "['Lorem ipsum dolor sit amet, consectetur adipiscing elit. Fusce diam ipsum, aliquam sit amet tempor sed, sodales vitae tellus. Fusce vitae lobortis quam. Proin laoreet efficitur ligula, laoreet congue neque condimentum a']\n"
     ]
    }
   ],
   "source": [
    "#print(first_slide['type'])\n",
    "print(first_slide['content'])\n",
    "print(\"\\nTitle\")\n",
    "print(first_slide['content'][0]['type'])\n",
    "print(first_slide['content'][0]['content'])\n",
    "print(\"\\nText\")\n",
    "print(first_slide['content'][1]['type'])\n",
    "print(first_slide['content'][1]['content'])"
   ]
  },
  {
   "cell_type": "code",
   "execution_count": 10,
   "metadata": {},
   "outputs": [
    {
     "name": "stdout",
     "output_type": "stream",
     "text": [
      "0 {'type': 'title0', 'content': ['Document title']}\n",
      "1 {'type': 'text', 'content': ['Lorem ipsum dolor sit amet, consectetur adipiscing elit. Fusce diam ipsum, aliquam sit amet tempor sed, sodales vitae tellus. Fusce vitae lobortis quam. Proin laoreet efficitur ligula, laoreet congue neque condimentum a']}\n"
     ]
    }
   ],
   "source": [
    "for i in range(len(first_slide[\"content\"])):\n",
    "    print(i, first_slide['content'][i])"
   ]
  },
  {
   "cell_type": "code",
   "execution_count": 11,
   "metadata": {},
   "outputs": [],
   "source": [
    "def create_slide_from_dict(slide_dict, pres):\n",
    "    \"\"\"\n",
    "    Function that read a json dict and add a PowerPoint slide to a presentation.\n",
    "    Parameters:\n",
    "        - slide_dict : json dict containing slide layout and content\n",
    "        - pres : the presentation\n",
    "    The json dict should have correct format and content\n",
    "    \"\"\"\n",
    "    # build slide layout from dict\n",
    "    slide_type = slide_dict['type'].upper()\n",
    "    print(slide_type)\n",
    "    slide_layout = pres.slide_layouts[DefaultSlideLayouts[slide_type].value] #layout not yet done but easy\n",
    "    slide = pres.slides.add_slide(slide_layout)\n",
    "\n",
    "    # fill placeholders with dict values\n",
    "    for shape in slide.placeholders:\n",
    "        try:\n",
    "            print(slide_dict['content'][shape.placeholder_format.idx]['content'][0])\n",
    "            shape.text = slide_dict['content'][shape.placeholder_format.idx]['content'][0]\n",
    "        except:\n",
    "            pass\n",
    "\n",
    "    return pres\n",
    "\n",
    "#create_slide_from_dict(first_slide, pres)"
   ]
  },
  {
   "cell_type": "code",
   "execution_count": 12,
   "metadata": {},
   "outputs": [
    {
     "name": "stdout",
     "output_type": "stream",
     "text": [
      "TITLE_SLIDE\n",
      "Document title\n",
      "Lorem ipsum dolor sit amet, consectetur adipiscing elit. Fusce diam ipsum, aliquam sit amet tempor sed, sodales vitae tellus. Fusce vitae lobortis quam. Proin laoreet efficitur ligula, laoreet congue neque condimentum a\n",
      "TITLE_AND_CONTENT_SLIDE\n",
      "Part 1\n",
      "Lorem ipsum dolor sit amet, consectetur adipiscing elit. Fusce diam ipsum, aliquam sit amet tempor sed.\n",
      "TITLE_AND_CONTENT_SLIDE\n",
      "Part 1-1\n",
      "Lorem ipsum dolor sit amet, consectetur adipiscing elit. Fusce diam ipsum, aliquam sit amet tempor sed, sodales vitae tellus.\n",
      "TITLE_AND_CONTENT_SLIDE\n",
      "Part 1-2\n",
      "Lorem ipsum dolor sit amet, consectetur adipiscing elit. Fusce diam ipsum, aliquam sit amet tempor sed, sodales vitae tellus.\n",
      "SECTION_HEADER\n",
      "Part 2\n",
      "TITLE_AND_CONTENT_SLIDE\n",
      "Part 2-1\n",
      "Lorem ipsum dolor sit amet, consectetur adipiscing elit. Fusce diam ipsum, aliquam sit amet tempor sed, sodales vitae tellus.\n",
      "TITLE_AND_CONTENT_SLIDE\n",
      "Part 2-2\n",
      "Lorem ipsum dolor sit amet, consectetur adipiscing elit. Fusce diam ipsum, aliquam sit amet tempor sed, sodales vitae tellus. Nulla odio nibh, aliquam sit amet eros a, vehicula eleifend tortor.\n",
      "TITLE_AND_CONTENT_SLIDE\n",
      "Part 2-2-1\n",
      "Lorem ipsum dolor sit amet, consectetur adipiscing elit.\n"
     ]
    }
   ],
   "source": [
    "for jslide in json_slides:\n",
    "    create_slide_from_dict(jslide, pres)"
   ]
  },
  {
   "cell_type": "code",
   "execution_count": 13,
   "metadata": {},
   "outputs": [],
   "source": [
    "pres.save(filename)"
   ]
  },
  {
   "cell_type": "code",
   "execution_count": 14,
   "metadata": {},
   "outputs": [],
   "source": [
    "os.startfile(filename)"
   ]
  },
  {
   "cell_type": "code",
   "execution_count": null,
   "metadata": {},
   "outputs": [],
   "source": []
  }
 ],
 "metadata": {
  "kernelspec": {
   "display_name": "Python 3",
   "language": "python",
   "name": "python3"
  },
  "language_info": {
   "codemirror_mode": {
    "name": "ipython",
    "version": 3
   },
   "file_extension": ".py",
   "mimetype": "text/x-python",
   "name": "python",
   "nbconvert_exporter": "python",
   "pygments_lexer": "ipython3",
   "version": "3.8.3"
  }
 },
 "nbformat": 4,
 "nbformat_minor": 4
}
