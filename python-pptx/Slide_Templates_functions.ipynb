{
 "cells": [
  {
   "cell_type": "code",
   "execution_count": 1,
   "metadata": {},
   "outputs": [],
   "source": [
    "import os\n",
    "import json\n",
    "\n",
    "from enum import Enum\n",
    "from pptx.util import Inches\n",
    "from pptx import Presentation\n",
    "from pptx.enum.shapes import MSO_SHAPE"
   ]
  },
  {
   "cell_type": "code",
   "execution_count": 2,
   "metadata": {},
   "outputs": [],
   "source": [
    "from process_json import *\n",
    "from slide_functions import *"
   ]
  },
  {
   "cell_type": "code",
   "execution_count": 3,
   "metadata": {},
   "outputs": [],
   "source": [
    "datapath = '../data/'"
   ]
  },
  {
   "cell_type": "code",
   "execution_count": 4,
   "metadata": {},
   "outputs": [
    {
     "name": "stdout",
     "output_type": "stream",
     "text": [
      "connard_de_virus.png\n",
      "default_picture.jpg\n",
      "Disney_json_ppt2.json\n",
      "example.json\n",
      "lego.json\n",
      "nlp_Disney_json_ppt2.json\n"
     ]
    }
   ],
   "source": [
    "files = os.listdir(datapath)\n",
    "for filename in files:\n",
    "    print(filename)"
   ]
  },
  {
   "cell_type": "code",
   "execution_count": 5,
   "metadata": {},
   "outputs": [],
   "source": [
    "imgspath = '../data/'\n",
    "docpath = './doc_and_ppt/'"
   ]
  },
  {
   "cell_type": "code",
   "execution_count": 6,
   "metadata": {},
   "outputs": [],
   "source": [
    "lego = False\n",
    "disney = not(lego)\n",
    "test = not(disney) and not(lego)"
   ]
  },
  {
   "cell_type": "code",
   "execution_count": 7,
   "metadata": {},
   "outputs": [],
   "source": [
    "if disney:\n",
    "    filename = docpath+'nlp_Disney2.pptx'\n",
    "    jsonpath = datapath+'nlp_Disney_json_ppt2.json'\n",
    "    \n",
    "if lego:\n",
    "    filename = docpath+'Lego.pptx'\n",
    "    jsonpath = datapath+'lego.json'\n",
    "\n",
    "if test:\n",
    "    filename = docpath+'testjson2.pptx'\n",
    "    jsonpath = datapath+'example.json'"
   ]
  },
  {
   "cell_type": "code",
   "execution_count": 8,
   "metadata": {},
   "outputs": [],
   "source": [
    "# Instantiate the Presentation\n",
    "pres = Presentation()"
   ]
  },
  {
   "cell_type": "code",
   "execution_count": 9,
   "metadata": {},
   "outputs": [],
   "source": [
    "with open(jsonpath) as fjson:\n",
    "    data = json.load(fjson)"
   ]
  },
  {
   "cell_type": "code",
   "execution_count": 10,
   "metadata": {},
   "outputs": [
    {
     "name": "stdout",
     "output_type": "stream",
     "text": [
      "{'type': 'level_0', 'content': [{'type': 'title_0', 'content': ['42']}]} \n",
      "\n",
      "{'type': 'level_2', 'content': [{'type': 'title_2', 'content': ['La compagnie']}, {'type': 'plain_text', 'content': ['42']}]} \n",
      "\n",
      "{'type': 'level_2', 'content': [{'type': 'title_2', 'content': ['Direction gÃ©nÃ©rale actuelle']}, {'type': 'plain_text', 'content': ['PrÃ©sident du directoire : Bob Chapek', 'Responsable Financier : Christine McCarthy', 'Adjoint de Robert Iger : Peter E. Murphy']}]} \n",
      "\n",
      "{'type': 'level_1', 'content': [{'type': 'title_1', 'content': ['Les diffÃ©rents groupes de studios']}, {'type': 'level_2', 'content': [{'type': 'title_2', 'content': ['Walt Disney Motion Pictures ']}, {'type': 'plain_text', 'content': [\"Le Walt Disney Motion Pictures Group regroupe les studios de cinÃ©ma avec Walt Disney Pictures (pour les longs mÃ©trages), Touchstone Pictures, Hollywood Pictures. Walt Disney Pictures est subdivisÃ© en Walt Disney Animation Studios, Pixar Animation Studios et Disneynature. Le groupe possÃ¨de ainsi un important catalogue de films dont la distribution est assurÃ©e par Walt Disney Studios Entertainment. Avec l'achat de 20th Century Fox, Disney met la main sur le catalogue de la Fox mais aussi Fox Searchlight Pictures, 20th Century Fox Animation, Blue Sky Studios et Fox Star Studios. Le groupe comprenait les studios Miramax Films et sa division Dimension Films mais Dimension a Ã©tÃ© revendu en 2005 puis Miramax en 2010. Cette division comporte aussi Marvel Studios et Lucasfilms.\"]}]}, {'type': 'level_2', 'content': [{'type': 'title_2', 'content': ['Disney Theatrical Group']}, {'type': 'plain_text', 'content': [\"Le Disney Theatrical Group est la division Â« thÃ©Ã¢tre et spectacles Â». Il comprend Walt Disney Theatrical Productions qui produit des comÃ©dies musicales principalement Ã\\xa0 Broadway et Walt Disney Creative Entertainment qui gÃ¨re les spectacles des parcs Disney mais qui dÃ©pend aussi d'une autre filiale, Walt Disney Imagineering.\"]}]}]} \n",
      "\n",
      "{'type': 'level_1', 'content': [{'type': 'title_1', 'content': ['DonnÃ©es Ã©conomiques']}, {'type': 'level_2', 'content': [{'type': 'title_2', 'content': ['Actionnaires de Disney']}, {'type': 'plain_text', 'content': ['42', 'des investisseurs institutionnels (pourcentage au 31 mars 2007) comme FMR Corporation, State Street Corporation, Barclays Global Investors UK, The Vanguard Group, Legg Mason Inc., Southeastern Asset Management Inc., State Farm Mutual Automobile Insurance Co., Jennison Associates Llc, Wellington Management Company, ou encore AXA ;', \"des fonds de pensions amÃ©ricains souscrivant au capital de la sociÃ©tÃ© comme le California Public Employeesâ€™ Retirement System (CalPERS), le New York State Common Retirement Fund, l'American Federation of State, le County and Municipal Employees Pension Funds (AFSCME) ou l'Illinois State Board of Investment ;\", \"des fonds d'investissements comme Waddell & Reed, Inc (6 %) ou le Wells Fargo Advantage Funds (6 %) sont Ã©galement prÃ©sents au capital.\"]}]}, {'type': 'level_2', 'content': [{'type': 'title_2', 'content': [\"Programme de rachat d'actions\"]}, {'type': 'plain_text', 'content': ['42']}]}, {'type': 'level_2', 'content': [{'type': 'title_2', 'content': ['RÃ©sultats financiers']}, {'type': 'picture_item', 'content': ['image_resultat_financier.jpg']}]}]} \n",
      "\n"
     ]
    }
   ],
   "source": [
    "json_slides = data['document_content']\n",
    "for elem in json_slides:\n",
    "    print(elem, \"\\n\") "
   ]
  },
  {
   "cell_type": "code",
   "execution_count": 11,
   "metadata": {},
   "outputs": [],
   "source": [
    "slide_elements = []\n",
    "breakdown_json(json_slides, slide_elements)"
   ]
  },
  {
   "cell_type": "code",
   "execution_count": 12,
   "metadata": {},
   "outputs": [
    {
     "name": "stdout",
     "output_type": "stream",
     "text": [
      "level_0\n",
      "title_0\n",
      "42\n",
      "level_2\n",
      "title_2\n",
      "La compagnie\n",
      "plain_text\n",
      "42\n",
      "level_2\n",
      "title_2\n",
      "Direction gÃ©nÃ©rale actuelle\n",
      "plain_text\n",
      "PrÃ©sident du directoire : Bob Chapek\n",
      "Responsable Financier : Christine McCarthy\n",
      "Adjoint de Robert Iger : Peter E. Murphy\n",
      "level_1\n",
      "title_1\n",
      "Les diffÃ©rents groupes de studios\n",
      "level_2\n",
      "title_2\n",
      "Walt Disney Motion Pictures \n",
      "plain_text\n",
      "Le Walt Disney Motion Pictures Group regroupe les studios de cinÃ©ma avec Walt Disney Pictures (pour les longs mÃ©trages), Touchstone Pictures, Hollywood Pictures. Walt Disney Pictures est subdivisÃ© en Walt Disney Animation Studios, Pixar Animation Studios et Disneynature. Le groupe possÃ¨de ainsi un important catalogue de films dont la distribution est assurÃ©e par Walt Disney Studios Entertainment. Avec l'achat de 20th Century Fox, Disney met la main sur le catalogue de la Fox mais aussi Fox Searchlight Pictures, 20th Century Fox Animation, Blue Sky Studios et Fox Star Studios. Le groupe comprenait les studios Miramax Films et sa division Dimension Films mais Dimension a Ã©tÃ© revendu en 2005 puis Miramax en 2010. Cette division comporte aussi Marvel Studios et Lucasfilms.\n",
      "level_2\n",
      "title_2\n",
      "Disney Theatrical Group\n",
      "plain_text\n",
      "Le Disney Theatrical Group est la division Â« thÃ©Ã¢tre et spectacles Â». Il comprend Walt Disney Theatrical Productions qui produit des comÃ©dies musicales principalement Ã  Broadway et Walt Disney Creative Entertainment qui gÃ¨re les spectacles des parcs Disney mais qui dÃ©pend aussi d'une autre filiale, Walt Disney Imagineering.\n",
      "level_1\n",
      "title_1\n",
      "DonnÃ©es Ã©conomiques\n",
      "level_2\n",
      "title_2\n",
      "Actionnaires de Disney\n",
      "plain_text\n",
      "42\n",
      "des investisseurs institutionnels (pourcentage au 31 mars 2007) comme FMR Corporation, State Street Corporation, Barclays Global Investors UK, The Vanguard Group, Legg Mason Inc., Southeastern Asset Management Inc., State Farm Mutual Automobile Insurance Co., Jennison Associates Llc, Wellington Management Company, ou encore AXA ;\n",
      "des fonds de pensions amÃ©ricains souscrivant au capital de la sociÃ©tÃ© comme le California Public Employeesâ€™ Retirement System (CalPERS), le New York State Common Retirement Fund, l'American Federation of State, le County and Municipal Employees Pension Funds (AFSCME) ou l'Illinois State Board of Investment ;\n",
      "des fonds d'investissements comme Waddell & Reed, Inc (6 %) ou le Wells Fargo Advantage Funds (6 %) sont Ã©galement prÃ©sents au capital.\n",
      "level_2\n",
      "title_2\n",
      "Programme de rachat d'actions\n",
      "plain_text\n",
      "42\n",
      "level_2\n",
      "title_2\n",
      "RÃ©sultats financiers\n",
      "picture_item\n",
      "image_resultat_financier.jpg\n"
     ]
    }
   ],
   "source": [
    "for i in slide_elements:\n",
    "    print(i)"
   ]
  },
  {
   "cell_type": "code",
   "execution_count": 13,
   "metadata": {},
   "outputs": [
    {
     "data": {
      "text/plain": [
       "[['level_0', 'title_0', '42'],\n",
       " ['level_2', 'title_2', 'La compagnie', 'plain_text', '42'],\n",
       " ['level_2',\n",
       "  'title_2',\n",
       "  'Direction gÃ©nÃ©rale actuelle',\n",
       "  'plain_text',\n",
       "  'PrÃ©sident du directoire : Bob Chapek',\n",
       "  'Responsable Financier : Christine McCarthy',\n",
       "  'Adjoint de Robert Iger : Peter E. Murphy'],\n",
       " ['level_1', 'title_1', 'Les diffÃ©rents groupes de studios'],\n",
       " ['level_2',\n",
       "  'title_2',\n",
       "  'Walt Disney Motion Pictures ',\n",
       "  'plain_text',\n",
       "  \"Le Walt Disney Motion Pictures Group regroupe les studios de cinÃ©ma avec Walt Disney Pictures (pour les longs mÃ©trages), Touchstone Pictures, Hollywood Pictures. Walt Disney Pictures est subdivisÃ© en Walt Disney Animation Studios, Pixar Animation Studios et Disneynature. Le groupe possÃ¨de ainsi un important catalogue de films dont la distribution est assurÃ©e par Walt Disney Studios Entertainment. Avec l'achat de 20th Century Fox, Disney met la main sur le catalogue de la Fox mais aussi Fox Searchlight Pictures, 20th Century Fox Animation, Blue Sky Studios et Fox Star Studios. Le groupe comprenait les studios Miramax Films et sa division Dimension Films mais Dimension a Ã©tÃ© revendu en 2005 puis Miramax en 2010. Cette division comporte aussi Marvel Studios et Lucasfilms.\"],\n",
       " ['level_2',\n",
       "  'title_2',\n",
       "  'Disney Theatrical Group',\n",
       "  'plain_text',\n",
       "  \"Le Disney Theatrical Group est la division Â« thÃ©Ã¢tre et spectacles Â». Il comprend Walt Disney Theatrical Productions qui produit des comÃ©dies musicales principalement Ã\\xa0 Broadway et Walt Disney Creative Entertainment qui gÃ¨re les spectacles des parcs Disney mais qui dÃ©pend aussi d'une autre filiale, Walt Disney Imagineering.\"],\n",
       " ['level_1', 'title_1', 'DonnÃ©es Ã©conomiques'],\n",
       " ['level_2',\n",
       "  'title_2',\n",
       "  'Actionnaires de Disney',\n",
       "  'plain_text',\n",
       "  '42',\n",
       "  'des investisseurs institutionnels (pourcentage au 31 mars 2007) comme FMR Corporation, State Street Corporation, Barclays Global Investors UK, The Vanguard Group, Legg Mason Inc., Southeastern Asset Management Inc., State Farm Mutual Automobile Insurance Co., Jennison Associates Llc, Wellington Management Company, ou encore AXA ;',\n",
       "  \"des fonds de pensions amÃ©ricains souscrivant au capital de la sociÃ©tÃ© comme le California Public Employeesâ€™ Retirement System (CalPERS), le New York State Common Retirement Fund, l'American Federation of State, le County and Municipal Employees Pension Funds (AFSCME) ou l'Illinois State Board of Investment ;\",\n",
       "  \"des fonds d'investissements comme Waddell & Reed, Inc (6 %) ou le Wells Fargo Advantage Funds (6 %) sont Ã©galement prÃ©sents au capital.\"],\n",
       " ['level_2', 'title_2', \"Programme de rachat d'actions\", 'plain_text', '42'],\n",
       " ['level_2',\n",
       "  'title_2',\n",
       "  'RÃ©sultats financiers',\n",
       "  'picture_item',\n",
       "  'image_resultat_financier.jpg']]"
      ]
     },
     "execution_count": 13,
     "metadata": {},
     "output_type": "execute_result"
    }
   ],
   "source": [
    "slide_contents = build_slide_content(slide_elements)\n",
    "slide_contents"
   ]
  },
  {
   "cell_type": "code",
   "execution_count": 14,
   "metadata": {
    "scrolled": true
   },
   "outputs": [
    {
     "name": "stdout",
     "output_type": "stream",
     "text": [
      "['level_0', 'title_0', '42'] \n",
      "\n",
      "['level_2', 'title_2', 'La compagnie', 'plain_text', '42'] \n",
      "\n",
      "['level_2', 'title_2', 'Direction gÃ©nÃ©rale actuelle', 'plain_text', 'PrÃ©sident du directoire : Bob Chapek', 'Responsable Financier : Christine McCarthy', 'Adjoint de Robert Iger : Peter E. Murphy'] \n",
      "\n",
      "['level_1', 'title_1', 'Les diffÃ©rents groupes de studios'] \n",
      "\n",
      "['level_2', 'title_2', 'Walt Disney Motion Pictures ', 'plain_text', \"Le Walt Disney Motion Pictures Group regroupe les studios de cinÃ©ma avec Walt Disney Pictures (pour les longs mÃ©trages), Touchstone Pictures, Hollywood Pictures. Walt Disney Pictures est subdivisÃ© en Walt Disney Animation Studios, Pixar Animation Studios et Disneynature. Le groupe possÃ¨de ainsi un important catalogue de films dont la distribution est assurÃ©e par Walt Disney Studios Entertainment. Avec l'achat de 20th Century Fox, Disney met la main sur le catalogue de la Fox mais aussi Fox Searchlight Pictures, 20th Century Fox Animation, Blue Sky Studios et Fox Star Studios. Le groupe comprenait les studios Miramax Films et sa division Dimension Films mais Dimension a Ã©tÃ© revendu en 2005 puis Miramax en 2010. Cette division comporte aussi Marvel Studios et Lucasfilms.\"] \n",
      "\n",
      "['level_2', 'title_2', 'Disney Theatrical Group', 'plain_text', \"Le Disney Theatrical Group est la division Â« thÃ©Ã¢tre et spectacles Â». Il comprend Walt Disney Theatrical Productions qui produit des comÃ©dies musicales principalement Ã\\xa0 Broadway et Walt Disney Creative Entertainment qui gÃ¨re les spectacles des parcs Disney mais qui dÃ©pend aussi d'une autre filiale, Walt Disney Imagineering.\"] \n",
      "\n",
      "['level_1', 'title_1', 'DonnÃ©es Ã©conomiques'] \n",
      "\n",
      "['level_2', 'title_2', 'Actionnaires de Disney', 'plain_text', '42', 'des investisseurs institutionnels (pourcentage au 31 mars 2007) comme FMR Corporation, State Street Corporation, Barclays Global Investors UK, The Vanguard Group, Legg Mason Inc., Southeastern Asset Management Inc., State Farm Mutual Automobile Insurance Co., Jennison Associates Llc, Wellington Management Company, ou encore AXA ;', \"des fonds de pensions amÃ©ricains souscrivant au capital de la sociÃ©tÃ© comme le California Public Employeesâ€™ Retirement System (CalPERS), le New York State Common Retirement Fund, l'American Federation of State, le County and Municipal Employees Pension Funds (AFSCME) ou l'Illinois State Board of Investment ;\", \"des fonds d'investissements comme Waddell & Reed, Inc (6 %) ou le Wells Fargo Advantage Funds (6 %) sont Ã©galement prÃ©sents au capital.\"] \n",
      "\n",
      "['level_2', 'title_2', \"Programme de rachat d'actions\", 'plain_text', '42'] \n",
      "\n",
      "['level_2', 'title_2', 'RÃ©sultats financiers', 'picture_item', 'image_resultat_financier.jpg'] \n",
      "\n"
     ]
    }
   ],
   "source": [
    "for content in slide_contents:\n",
    "    print(content,\"\\n\")"
   ]
  },
  {
   "cell_type": "code",
   "execution_count": 15,
   "metadata": {},
   "outputs": [
    {
     "name": "stdout",
     "output_type": "stream",
     "text": [
      "Creating a title slide\n",
      "\n",
      "title_0 42\n",
      "Creating a title and content slide\n",
      "\n",
      "title_2 La compagnie\n",
      "plain_text 42\n",
      "Creating a title and content slide\n",
      "\n",
      "title_2 Direction gÃ©nÃ©rale actuelle\n",
      "plain_text PrÃ©sident du directoire : Bob Chapek\n",
      "Creating a section header slide\n",
      "\n",
      "title_1 Les diffÃ©rents groupes de studios\n",
      "Creating a title and content slide\n",
      "\n",
      "title_2 Walt Disney Motion Pictures \n",
      "plain_text Le Walt Disney Motion Pictures Group regroupe les studios de cinÃ©ma avec Walt Disney Pictures (pour les longs mÃ©trages), Touchstone Pictures, Hollywood Pictures. Walt Disney Pictures est subdivisÃ© en Walt Disney Animation Studios, Pixar Animation Studios et Disneynature. Le groupe possÃ¨de ainsi un important catalogue de films dont la distribution est assurÃ©e par Walt Disney Studios Entertainment. Avec l'achat de 20th Century Fox, Disney met la main sur le catalogue de la Fox mais aussi Fox Searchlight Pictures, 20th Century Fox Animation, Blue Sky Studios et Fox Star Studios. Le groupe comprenait les studios Miramax Films et sa division Dimension Films mais Dimension a Ã©tÃ© revendu en 2005 puis Miramax en 2010. Cette division comporte aussi Marvel Studios et Lucasfilms.\n",
      "Creating a title and content slide\n",
      "\n",
      "title_2 Disney Theatrical Group\n",
      "plain_text Le Disney Theatrical Group est la division Â« thÃ©Ã¢tre et spectacles Â». Il comprend Walt Disney Theatrical Productions qui produit des comÃ©dies musicales principalement Ã  Broadway et Walt Disney Creative Entertainment qui gÃ¨re les spectacles des parcs Disney mais qui dÃ©pend aussi d'une autre filiale, Walt Disney Imagineering.\n",
      "Creating a section header slide\n",
      "\n",
      "title_1 DonnÃ©es Ã©conomiques\n",
      "Creating a title and content slide\n",
      "\n",
      "title_2 Actionnaires de Disney\n",
      "plain_text 42\n",
      "Creating a title and content slide\n",
      "\n",
      "title_2 Programme de rachat d'actions\n",
      "plain_text 42\n",
      "Creating a picture with caption slide\n",
      "\n",
      "title_2 RÃ©sultats financiers\n",
      "picture_item image_resultat_financier.jpg\n",
      "File not found. Placed a default picture instead.\n"
     ]
    },
    {
     "data": {
      "text/plain": [
       "<pptx.presentation.Presentation at 0x2090944c080>"
      ]
     },
     "execution_count": 15,
     "metadata": {},
     "output_type": "execute_result"
    }
   ],
   "source": [
    "detect_layout_and_create_slide(slide_contents, pres, imgspath)"
   ]
  },
  {
   "cell_type": "code",
   "execution_count": 16,
   "metadata": {},
   "outputs": [],
   "source": [
    "pres.save(filename)"
   ]
  },
  {
   "cell_type": "code",
   "execution_count": 17,
   "metadata": {},
   "outputs": [
    {
     "ename": "FileNotFoundError",
     "evalue": "[WinError 2] Le fichier spécifié est introuvable: './doc_and_ppt/nlp_Disney2.pptx'",
     "output_type": "error",
     "traceback": [
      "\u001b[1;31m---------------------------------------------------------------------------\u001b[0m",
      "\u001b[1;31mFileNotFoundError\u001b[0m                         Traceback (most recent call last)",
      "\u001b[1;32m<ipython-input-17-5d95fe1774a4>\u001b[0m in \u001b[0;36m<module>\u001b[1;34m\u001b[0m\n\u001b[1;32m----> 1\u001b[1;33m \u001b[0mos\u001b[0m\u001b[1;33m.\u001b[0m\u001b[0mstartfile\u001b[0m\u001b[1;33m(\u001b[0m\u001b[0mfilename\u001b[0m\u001b[1;33m)\u001b[0m\u001b[1;33m\u001b[0m\u001b[1;33m\u001b[0m\u001b[0m\n\u001b[0m",
      "\u001b[1;31mFileNotFoundError\u001b[0m: [WinError 2] Le fichier spécifié est introuvable: './doc_and_ppt/nlp_Disney2.pptx'"
     ]
    }
   ],
   "source": [
    "os.startfile(filename)"
   ]
  },
  {
   "cell_type": "code",
   "execution_count": null,
   "metadata": {},
   "outputs": [],
   "source": []
  }
 ],
 "metadata": {
  "kernelspec": {
   "display_name": "Python 3",
   "language": "python",
   "name": "python3"
  },
  "language_info": {
   "codemirror_mode": {
    "name": "ipython",
    "version": 3
   },
   "file_extension": ".py",
   "mimetype": "text/x-python",
   "name": "python",
   "nbconvert_exporter": "python",
   "pygments_lexer": "ipython3",
   "version": "3.8.3"
  }
 },
 "nbformat": 4,
 "nbformat_minor": 4
}
