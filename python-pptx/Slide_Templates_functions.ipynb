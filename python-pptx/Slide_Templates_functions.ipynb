{
 "cells": [
  {
   "cell_type": "code",
   "execution_count": 1,
   "metadata": {},
   "outputs": [],
   "source": [
    "import os\n",
    "import json\n",
    "\n",
    "from enum import Enum\n",
    "from pptx.util import Inches\n",
    "from pptx import Presentation\n",
    "from pptx.enum.shapes import MSO_SHAPE"
   ]
  },
  {
   "cell_type": "code",
   "execution_count": 2,
   "metadata": {},
   "outputs": [],
   "source": [
    "from process_json import *\n",
    "from slide_functions import *"
   ]
  },
  {
   "cell_type": "code",
   "execution_count": 3,
   "metadata": {},
   "outputs": [],
   "source": [
    "datapath = '../data/'"
   ]
  },
  {
   "cell_type": "code",
   "execution_count": 4,
   "metadata": {},
   "outputs": [
    {
     "name": "stdout",
     "output_type": "stream",
     "text": [
      "connard_de_virus.png\n",
      "default_picture.jpg\n",
      "Disney_json_ppt2.json\n",
      "example.json\n",
      "nlp_Disney_json_ppt2.json\n",
      "The Lego Group.json\n"
     ]
    }
   ],
   "source": [
    "files = os.listdir(datapath)\n",
    "for filename in files:\n",
    "    print(filename)"
   ]
  },
  {
   "cell_type": "code",
   "execution_count": 5,
   "metadata": {},
   "outputs": [],
   "source": [
    "imgspath = '../data/'\n",
    "docpath = './doc_and_ppt/'"
   ]
  },
  {
   "cell_type": "code",
   "execution_count": 6,
   "metadata": {},
   "outputs": [],
   "source": [
    "lego = True\n",
    "disney = not(lego)\n",
    "test = not(disney) and not(lego)"
   ]
  },
  {
   "cell_type": "code",
   "execution_count": 7,
   "metadata": {},
   "outputs": [],
   "source": [
    "if disney:\n",
    "    filename = docpath+'nlp_Disney2.pptx'\n",
    "    jsonpath = datapath+'nlp_Disney_json_ppt2.json'\n",
    "    \n",
    "if lego:\n",
    "    filename = docpath+'Lego.pptx'\n",
    "    jsonpath = datapath+'The Lego Group.json'\n",
    "\n",
    "if test:\n",
    "    filename = docpath+'testjson2.pptx'\n",
    "    jsonpath = datapath+'example.json'"
   ]
  },
  {
   "cell_type": "code",
   "execution_count": 8,
   "metadata": {},
   "outputs": [],
   "source": [
    "# Instantiate the Presentation\n",
    "pres = Presentation()"
   ]
  },
  {
   "cell_type": "code",
   "execution_count": 9,
   "metadata": {},
   "outputs": [],
   "source": [
    "with open(jsonpath) as fjson:\n",
    "    data = json.load(fjson)"
   ]
  },
  {
   "cell_type": "code",
   "execution_count": 10,
   "metadata": {},
   "outputs": [
    {
     "name": "stdout",
     "output_type": "stream",
     "text": [
      "{'type': 'level_0', 'content': [{'type': 'title_0', 'content': ['The Lego Group']}, {'type': 'level_1', 'content': [{'type': 'title_1', 'content': ['Introduction']}, {'type': 'level_2', 'content': [{'type': 'title_2', 'content': ['General information']}, {'type': 'plain_text', 'content': ['Lego System A/S (trade name: The Lego Group) is a Danish toy production company based in Billund. It is best known for the manufacture of Lego-brand toys, consisting mostly of interlocking plastic bricks. The Lego Group has also built several amusement parks around the world, each known as Legoland, and operates numerous retail stores.']}, {'type': 'plain_text', 'content': [\"The company was founded on 10 August 1932 by Ole Kirk Christiansen. The name Lego is derived from the Danish words leg godt, meaning 'play well'. In the first half of 2015, The Lego Group became the world's largest toy company by revenue, with sales amounting to US$2.1 billion, surpassing Mattel, which had US$1.9 billion in sales. Niels B. Christiansen is the company's CEO, having assumed the position on 1 October 2017.\"]}]}, {'type': 'level_2', 'content': [{'type': 'title_2', 'content': ['History']}, {'type': 'plain_text', 'content': ['The history of Lego spans nearly 100 years, beginning with the creation of small wooden playthings during the early 20th century. Manufacturing of plastic Lego bricks began in Denmark in 1947, but since has grown to include factories throughout the world.']}, {'type': 'plain_text', 'content': ['In North America, Samsonite managed the Lego brand from 1961 until 1972 (United States) and 1986 (Canada).']}]}]}, {'type': 'level_1', 'content': [{'type': 'title_1', 'content': ['Legoland']}, {'type': 'level_2', 'content': [{'type': 'title_2', 'content': ['Amusement parks']}, {'type': 'plain_text', 'content': [\"The Lego Group has built eight amusement parks around the world, each known as Legoland. Each park features large-scale Lego models of famous landmarks and miniature Lego models of famous cities, along with Lego themed rides. The first Legoland park was built in Lego's hometown of Billund in Denmark. This was followed by Legoland Windsor in England, Legoland California in Carlsbad, US and Legoland Deutschland in Günzburg, Germany. In addition, Legoland Sierksdorf was opened in 1973, but soon closed in 1976.\"]}, {'type': 'plain_text', 'content': ['In July 2005, the Lego Group announced that it had reached a deal with private investment company the Blackstone Group to sell all four parks for €375m to the Blackstone subsidiary Merlin Entertainments. Under the terms of the deal, The Lego Group would take a 30% share in Merlin Entertainments and positions on their board. The sale of the theme parks was part of a wider strategy to restructure the company to focus on the core business of toy products.']}, {'type': 'plain_text', 'content': ['In 2010, Merlin Entertainments opened the first Legoland water park at the Legoland California site. On 15 October 2011, Merlin Entertainments opened their first new Legoland park, Legoland Florida, in Winter Haven, Florida. It is the largest Legoland opened to date at 145 acres, and also only one of the Legoland parks opened in the United States. The other Legoland (opened at a later date) water park was opened near the same location on 26 May 2012 after only four months of construction.']}, {'type': 'plain_text', 'content': ['Merlin Entertainments opened their second new Legoland park in Nusajaya, Malaysia under the name Legoland Malaysia on 22 September 2012. It is the first Legoland in Asia and was quickly followed by another Lego-themed water park in the same area. The first Lego hotel has also opened near the site. People who stay in the hotel will also get tickets to the theme park and water park.']}, {'type': 'plain_text', 'content': ['Merlin Entertainments has also planned several new Legoland parks: Legoland Dubai, Legoland Nagoya (scheduled to open in 2015), and Legoland Korea (also scheduled to open in 2015). In addition, they have opened four new Legoland Discovery Centres, which take the Legoland concept and scale it down to suit a retail park environment.']}]}]}, {'type': 'level_1', 'content': [{'type': 'title_1', 'content': ['Retail stores']}, {'type': 'plain_text', 'content': ['The Lego Group operates 146 retail stores (83 in the United States, 17 in the United Kingdom, 11 in Germany, 10 in Canada, 7 in France, 2 in Spain, 2 in Austria, 2 in Italy, 2 in Serbia, 2 in Denmark, 1 in Belgium, 2 in China, 1 in Sweden, 1 in Poland, 1 in India, 1 in Lithuania and 3 in Mexico.). The Lego Group also franchised its store brand to Majid Al Futtaim Group, which opened 6 stores in 2015 (4 in the United Arab Emirates, and 2 in Kuwait).']}, {'type': 'level_2', 'content': [{'type': 'title_2', 'content': ['Europe']}, {'type': 'plain_text', 'content': [\"October 2002 saw a significant change in The Lego Group's direct retail policy with the opening of the first so-called Lego Brand Store in Cologne, Germany. The second, in Milton Keynes, UK, followed quickly – several dozen more opened worldwide over the next few years, and most of the existing stores have been remodelled on the new Brand Store template. One of the distinctive features of these new stores is the inclusion of a 'Pick-A-Brick' system that allows customers to buy individual bricks in bulk quantities. How a customer buys Lego pieces at a Pick-A-Brick is quite simple: customers fill a large or small cup or bag with their choice of Lego bricks from a large and varied selection and purchase it. The opening of most of these stores, including the 2003 opening of one in the Birmingham Bull Ring shopping centre in England, have been marked by the production of a new, special, limited edition, commemorative Lego Duplo piece. Lego opened the first brand store in its home country Denmark in Copenhagen on 13 December 2010. There are two stores in Austria, one store in Belgium, twelve stores in Germany, thirteen stores in the United Kingdom, six stores in France, five stores in Spain, two stores in Serbia, one store in Sweden, one store in Denmark, and one store in Lithuania for a total of 41 stores in Europe. In 2016, three stores opened in Italy: one in Milan, one in the shopping center near the Orio al Serio International Airport in Bergamo, and another in Verona. In 2020, the total amount of Lego stores in Italy reached 14, covering from North to South.\"]}]}, {'type': 'level_2', 'content': [{'type': 'title_2', 'content': ['North America']}, {'type': 'plain_text', 'content': [\"In 1992, when the Mall of America opened in Bloomington, Minnesota, one of its premier attractions was the Lego Imagination Center (LIC). An imagination centre is a large Lego store with displays of Lego sculptures and a play area with bins of bricks to build with. The store inventory includes a large selection of Lego sets for sale, including sets which are advertised in Lego catalogues as 'Not Available in Any Store'. A second imagination centre opened at the Disney Springs (formerly Downtown Disney) at Walt Disney World Resort in Orlando, Florida. Between 1999 and 2005, Lego opened 24 further stores in North America in 23 states. As of 2016, there are 90 Lego stores operating or soon-to-be operating in North America in 32 US states and five Canadian provinces. These stores sell various Lego merchandise, including minifigures, Pick-a-Brick, and custom packaged minifigures.\"]}]}, {'type': 'level_2', 'content': [{'type': 'title_2', 'content': ['India']}, {'type': 'plain_text', 'content': ['The first Lego store in India was opened in Chennai, Tamil Nadu in March 2014 by Funskool, under licence from the Lego Group.']}]}]}, {'type': 'level_1', 'content': [{'type': 'title_1', 'content': ['Toy production']}, {'type': 'plain_text', 'content': ['Lego products are mass-produced, packaged, and shipped on a large scale.']}, {'type': 'plain_text', 'content': ['Lego Produktion AG was a major production facility for Lego. It was founded in Switzerland in 1974. At the time of its announced closing in 2001, 30% of the world production of Lego was produced at the Swiss facility in Baar. The Baar facility eventually closed in 2004.']}, {'type': 'plain_text', 'content': ['In April 1962, the Lego Group began producing miniature tires; it became the largest tire manufacturing company in 2011, when it produced 381 million tires that year.']}]}, {'type': 'level_1', 'content': [{'type': 'title_1', 'content': ['Environmental issues']}, {'type': 'level_2', 'content': [{'type': 'title_2', 'content': ['Sustainable alternatives']}, {'type': 'plain_text', 'content': ['Lego acknowledges the impact of its operations on the environment, in particular in areas such as climate change, resource and energy use and waste. All manufacturing sites are certified according to the environmental standard ISO 14001. The first Borkum Riffgrund 1 wind turbines off the coast of Germany began producing electricity in February 2015, which will help The Lego Group reach its goal of being based 100% on renewable energy by 2020. The company claims to recycle 90% of its waste and that it had made its operations nearly one-third more energy efficient over the five-year period ending 31 December 2013. It is seeking alternatives to crude oil as the raw material for its bricks. This results in the establishment in June 2015 the Lego Sustainable Materials Centre, which is expected to recruit more than 100 employees, as a significant step towards the 2030 ambition of finding and implementing sustainable alternatives to current materials.']}]}, {'type': 'level_2', 'content': [{'type': 'title_2', 'content': ['Greenpeace']}, {'type': 'plain_text', 'content': ['In 2011, Lego bowed to pressure from the environmental campaigning organization Greenpeace, reportedly agreeing to drop supplier Asia Pulp and Paper, and pledging to only use packaging material certified by the Forest Stewardship Council in future. The environmental group had accused Lego, Hasbro, Mattel and Disney of using packaging material sourced from trees cleared out of the Indonesian rainforest.']}]}, {'type': 'level_2', 'content': [{'type': 'title_2', 'content': ['Shell']}, {'type': 'plain_text', 'content': [\"Lego partnered with the oil company Royal Dutch Shell in the 1960s, using the company's logo in some of its construction sets. This partnership continued until the 1990s and was renewed again in 2011. In July 2014, Greenpeace launched a global campaign to persuade Lego to cease producing toys carrying the oil company Shell's logo in response to Shell's plans to drill for oil in the Arctic. Shell's PR company valued the most recent two-year deal with Lego at $116 million and reported that Shell achieved a 7.5% worldwide sales uplift during the promotion video from Iris International. Lego announced that when the latest contract between the two companies comes to an end it will not be renewing it.\"]}, {'type': 'plain_text', 'content': [\"As of August 2014, more than 750,000 people worldwide had signed a Greenpeace petition asking Lego to end its partnership with Shell. Lego responded saying they 'expect that Shell lives up to their responsibilities wherever they operate' and that they 'intend to live up to the long term contract with Shell, which we entered into in 2011.' Meanwhile, Greenpeace produced a video campaigning against the Shell partnership; it received extensive press coverage and was viewed more than six million times on YouTube. In October 2014, Lego announced that it would not be renewing its promotional contract with Royal Dutch Shell but did not say when the existing deal with Shell expires. Greenpeace claimed the decision was in response to its campaigning.\"]}]}]}]} \n",
      "\n"
     ]
    }
   ],
   "source": [
    "json_slides = data['document_content']\n",
    "for elem in json_slides:\n",
    "    print(elem, \"\\n\") "
   ]
  },
  {
   "cell_type": "code",
   "execution_count": 11,
   "metadata": {},
   "outputs": [],
   "source": [
    "slide_elements = []\n",
    "breakdown_json(json_slides, slide_elements)"
   ]
  },
  {
   "cell_type": "code",
   "execution_count": 12,
   "metadata": {},
   "outputs": [
    {
     "name": "stdout",
     "output_type": "stream",
     "text": [
      "level_0\n",
      "title_0\n",
      "The Lego Group\n",
      "level_1\n",
      "title_1\n",
      "Introduction\n",
      "level_2\n",
      "title_2\n",
      "General information\n",
      "plain_text\n",
      "Lego System A/S (trade name: The Lego Group) is a Danish toy production company based in Billund. It is best known for the manufacture of Lego-brand toys, consisting mostly of interlocking plastic bricks. The Lego Group has also built several amusement parks around the world, each known as Legoland, and operates numerous retail stores.\n",
      "plain_text\n",
      "The company was founded on 10 August 1932 by Ole Kirk Christiansen. The name Lego is derived from the Danish words leg godt, meaning 'play well'. In the first half of 2015, The Lego Group became the world's largest toy company by revenue, with sales amounting to US$2.1 billion, surpassing Mattel, which had US$1.9 billion in sales. Niels B. Christiansen is the company's CEO, having assumed the position on 1 October 2017.\n",
      "level_2\n",
      "title_2\n",
      "History\n",
      "plain_text\n",
      "The history of Lego spans nearly 100 years, beginning with the creation of small wooden playthings during the early 20th century. Manufacturing of plastic Lego bricks began in Denmark in 1947, but since has grown to include factories throughout the world.\n",
      "plain_text\n",
      "In North America, Samsonite managed the Lego brand from 1961 until 1972 (United States) and 1986 (Canada).\n",
      "level_1\n",
      "title_1\n",
      "Legoland\n",
      "level_2\n",
      "title_2\n",
      "Amusement parks\n",
      "plain_text\n",
      "The Lego Group has built eight amusement parks around the world, each known as Legoland. Each park features large-scale Lego models of famous landmarks and miniature Lego models of famous cities, along with Lego themed rides. The first Legoland park was built in Lego's hometown of Billund in Denmark. This was followed by Legoland Windsor in England, Legoland California in Carlsbad, US and Legoland Deutschland in Günzburg, Germany. In addition, Legoland Sierksdorf was opened in 1973, but soon closed in 1976.\n",
      "plain_text\n",
      "In July 2005, the Lego Group announced that it had reached a deal with private investment company the Blackstone Group to sell all four parks for €375m to the Blackstone subsidiary Merlin Entertainments. Under the terms of the deal, The Lego Group would take a 30% share in Merlin Entertainments and positions on their board. The sale of the theme parks was part of a wider strategy to restructure the company to focus on the core business of toy products.\n",
      "plain_text\n",
      "In 2010, Merlin Entertainments opened the first Legoland water park at the Legoland California site. On 15 October 2011, Merlin Entertainments opened their first new Legoland park, Legoland Florida, in Winter Haven, Florida. It is the largest Legoland opened to date at 145 acres, and also only one of the Legoland parks opened in the United States. The other Legoland (opened at a later date) water park was opened near the same location on 26 May 2012 after only four months of construction.\n",
      "plain_text\n",
      "Merlin Entertainments opened their second new Legoland park in Nusajaya, Malaysia under the name Legoland Malaysia on 22 September 2012. It is the first Legoland in Asia and was quickly followed by another Lego-themed water park in the same area. The first Lego hotel has also opened near the site. People who stay in the hotel will also get tickets to the theme park and water park.\n",
      "plain_text\n",
      "Merlin Entertainments has also planned several new Legoland parks: Legoland Dubai, Legoland Nagoya (scheduled to open in 2015), and Legoland Korea (also scheduled to open in 2015). In addition, they have opened four new Legoland Discovery Centres, which take the Legoland concept and scale it down to suit a retail park environment.\n",
      "level_1\n",
      "title_1\n",
      "Retail stores\n",
      "plain_text\n",
      "The Lego Group operates 146 retail stores (83 in the United States, 17 in the United Kingdom, 11 in Germany, 10 in Canada, 7 in France, 2 in Spain, 2 in Austria, 2 in Italy, 2 in Serbia, 2 in Denmark, 1 in Belgium, 2 in China, 1 in Sweden, 1 in Poland, 1 in India, 1 in Lithuania and 3 in Mexico.). The Lego Group also franchised its store brand to Majid Al Futtaim Group, which opened 6 stores in 2015 (4 in the United Arab Emirates, and 2 in Kuwait).\n",
      "level_2\n",
      "title_2\n",
      "Europe\n",
      "plain_text\n",
      "October 2002 saw a significant change in The Lego Group's direct retail policy with the opening of the first so-called Lego Brand Store in Cologne, Germany. The second, in Milton Keynes, UK, followed quickly – several dozen more opened worldwide over the next few years, and most of the existing stores have been remodelled on the new Brand Store template. One of the distinctive features of these new stores is the inclusion of a 'Pick-A-Brick' system that allows customers to buy individual bricks in bulk quantities. How a customer buys Lego pieces at a Pick-A-Brick is quite simple: customers fill a large or small cup or bag with their choice of Lego bricks from a large and varied selection and purchase it. The opening of most of these stores, including the 2003 opening of one in the Birmingham Bull Ring shopping centre in England, have been marked by the production of a new, special, limited edition, commemorative Lego Duplo piece. Lego opened the first brand store in its home country Denmark in Copenhagen on 13 December 2010. There are two stores in Austria, one store in Belgium, twelve stores in Germany, thirteen stores in the United Kingdom, six stores in France, five stores in Spain, two stores in Serbia, one store in Sweden, one store in Denmark, and one store in Lithuania for a total of 41 stores in Europe. In 2016, three stores opened in Italy: one in Milan, one in the shopping center near the Orio al Serio International Airport in Bergamo, and another in Verona. In 2020, the total amount of Lego stores in Italy reached 14, covering from North to South.\n",
      "level_2\n",
      "title_2\n",
      "North America\n",
      "plain_text\n",
      "In 1992, when the Mall of America opened in Bloomington, Minnesota, one of its premier attractions was the Lego Imagination Center (LIC). An imagination centre is a large Lego store with displays of Lego sculptures and a play area with bins of bricks to build with. The store inventory includes a large selection of Lego sets for sale, including sets which are advertised in Lego catalogues as 'Not Available in Any Store'. A second imagination centre opened at the Disney Springs (formerly Downtown Disney) at Walt Disney World Resort in Orlando, Florida. Between 1999 and 2005, Lego opened 24 further stores in North America in 23 states. As of 2016, there are 90 Lego stores operating or soon-to-be operating in North America in 32 US states and five Canadian provinces. These stores sell various Lego merchandise, including minifigures, Pick-a-Brick, and custom packaged minifigures.\n",
      "level_2\n",
      "title_2\n",
      "India\n",
      "plain_text\n",
      "The first Lego store in India was opened in Chennai, Tamil Nadu in March 2014 by Funskool, under licence from the Lego Group.\n",
      "level_1\n",
      "title_1\n",
      "Toy production\n",
      "plain_text\n",
      "Lego products are mass-produced, packaged, and shipped on a large scale.\n",
      "plain_text\n",
      "Lego Produktion AG was a major production facility for Lego. It was founded in Switzerland in 1974. At the time of its announced closing in 2001, 30% of the world production of Lego was produced at the Swiss facility in Baar. The Baar facility eventually closed in 2004.\n",
      "plain_text\n",
      "In April 1962, the Lego Group began producing miniature tires; it became the largest tire manufacturing company in 2011, when it produced 381 million tires that year.\n",
      "level_1\n",
      "title_1\n",
      "Environmental issues\n",
      "level_2\n",
      "title_2\n",
      "Sustainable alternatives\n",
      "plain_text\n",
      "Lego acknowledges the impact of its operations on the environment, in particular in areas such as climate change, resource and energy use and waste. All manufacturing sites are certified according to the environmental standard ISO 14001. The first Borkum Riffgrund 1 wind turbines off the coast of Germany began producing electricity in February 2015, which will help The Lego Group reach its goal of being based 100% on renewable energy by 2020. The company claims to recycle 90% of its waste and that it had made its operations nearly one-third more energy efficient over the five-year period ending 31 December 2013. It is seeking alternatives to crude oil as the raw material for its bricks. This results in the establishment in June 2015 the Lego Sustainable Materials Centre, which is expected to recruit more than 100 employees, as a significant step towards the 2030 ambition of finding and implementing sustainable alternatives to current materials.\n",
      "level_2\n",
      "title_2\n",
      "Greenpeace\n",
      "plain_text\n",
      "In 2011, Lego bowed to pressure from the environmental campaigning organization Greenpeace, reportedly agreeing to drop supplier Asia Pulp and Paper, and pledging to only use packaging material certified by the Forest Stewardship Council in future. The environmental group had accused Lego, Hasbro, Mattel and Disney of using packaging material sourced from trees cleared out of the Indonesian rainforest.\n",
      "level_2\n",
      "title_2\n",
      "Shell\n",
      "plain_text\n",
      "Lego partnered with the oil company Royal Dutch Shell in the 1960s, using the company's logo in some of its construction sets. This partnership continued until the 1990s and was renewed again in 2011. In July 2014, Greenpeace launched a global campaign to persuade Lego to cease producing toys carrying the oil company Shell's logo in response to Shell's plans to drill for oil in the Arctic. Shell's PR company valued the most recent two-year deal with Lego at $116 million and reported that Shell achieved a 7.5% worldwide sales uplift during the promotion video from Iris International. Lego announced that when the latest contract between the two companies comes to an end it will not be renewing it.\n",
      "plain_text\n",
      "As of August 2014, more than 750,000 people worldwide had signed a Greenpeace petition asking Lego to end its partnership with Shell. Lego responded saying they 'expect that Shell lives up to their responsibilities wherever they operate' and that they 'intend to live up to the long term contract with Shell, which we entered into in 2011.' Meanwhile, Greenpeace produced a video campaigning against the Shell partnership; it received extensive press coverage and was viewed more than six million times on YouTube. In October 2014, Lego announced that it would not be renewing its promotional contract with Royal Dutch Shell but did not say when the existing deal with Shell expires. Greenpeace claimed the decision was in response to its campaigning.\n"
     ]
    }
   ],
   "source": [
    "for i in slide_elements:\n",
    "    print(i)"
   ]
  },
  {
   "cell_type": "code",
   "execution_count": 13,
   "metadata": {},
   "outputs": [
    {
     "data": {
      "text/plain": [
       "[['level_0', 'title_0', 'The Lego Group'],\n",
       " ['level_1', 'title_1', 'Introduction'],\n",
       " ['level_2',\n",
       "  'title_2',\n",
       "  'General information',\n",
       "  'plain_text',\n",
       "  'Lego System A/S (trade name: The Lego Group) is a Danish toy production company based in Billund. It is best known for the manufacture of Lego-brand toys, consisting mostly of interlocking plastic bricks. The Lego Group has also built several amusement parks around the world, each known as Legoland, and operates numerous retail stores.',\n",
       "  'plain_text',\n",
       "  \"The company was founded on 10 August 1932 by Ole Kirk Christiansen. The name Lego is derived from the Danish words leg godt, meaning 'play well'. In the first half of 2015, The Lego Group became the world's largest toy company by revenue, with sales amounting to US$2.1 billion, surpassing Mattel, which had US$1.9 billion in sales. Niels B. Christiansen is the company's CEO, having assumed the position on 1 October 2017.\"],\n",
       " ['level_2',\n",
       "  'title_2',\n",
       "  'History',\n",
       "  'plain_text',\n",
       "  'The history of Lego spans nearly 100 years, beginning with the creation of small wooden playthings during the early 20th century. Manufacturing of plastic Lego bricks began in Denmark in 1947, but since has grown to include factories throughout the world.',\n",
       "  'plain_text',\n",
       "  'In North America, Samsonite managed the Lego brand from 1961 until 1972 (United States) and 1986 (Canada).'],\n",
       " ['level_1', 'title_1', 'Legoland'],\n",
       " ['level_2',\n",
       "  'title_2',\n",
       "  'Amusement parks',\n",
       "  'plain_text',\n",
       "  \"The Lego Group has built eight amusement parks around the world, each known as Legoland. Each park features large-scale Lego models of famous landmarks and miniature Lego models of famous cities, along with Lego themed rides. The first Legoland park was built in Lego's hometown of Billund in Denmark. This was followed by Legoland Windsor in England, Legoland California in Carlsbad, US and Legoland Deutschland in Günzburg, Germany. In addition, Legoland Sierksdorf was opened in 1973, but soon closed in 1976.\",\n",
       "  'plain_text',\n",
       "  'In July 2005, the Lego Group announced that it had reached a deal with private investment company the Blackstone Group to sell all four parks for €375m to the Blackstone subsidiary Merlin Entertainments. Under the terms of the deal, The Lego Group would take a 30% share in Merlin Entertainments and positions on their board. The sale of the theme parks was part of a wider strategy to restructure the company to focus on the core business of toy products.',\n",
       "  'plain_text',\n",
       "  'In 2010, Merlin Entertainments opened the first Legoland water park at the Legoland California site. On 15 October 2011, Merlin Entertainments opened their first new Legoland park, Legoland Florida, in Winter Haven, Florida. It is the largest Legoland opened to date at 145 acres, and also only one of the Legoland parks opened in the United States. The other Legoland (opened at a later date) water park was opened near the same location on 26 May 2012 after only four months of construction.',\n",
       "  'plain_text',\n",
       "  'Merlin Entertainments opened their second new Legoland park in Nusajaya, Malaysia under the name Legoland Malaysia on 22 September 2012. It is the first Legoland in Asia and was quickly followed by another Lego-themed water park in the same area. The first Lego hotel has also opened near the site. People who stay in the hotel will also get tickets to the theme park and water park.',\n",
       "  'plain_text',\n",
       "  'Merlin Entertainments has also planned several new Legoland parks: Legoland Dubai, Legoland Nagoya (scheduled to open in 2015), and Legoland Korea (also scheduled to open in 2015). In addition, they have opened four new Legoland Discovery Centres, which take the Legoland concept and scale it down to suit a retail park environment.'],\n",
       " ['level_1',\n",
       "  'title_1',\n",
       "  'Retail stores',\n",
       "  'plain_text',\n",
       "  'The Lego Group operates 146 retail stores (83 in the United States, 17 in the United Kingdom, 11 in Germany, 10 in Canada, 7 in France, 2 in Spain, 2 in Austria, 2 in Italy, 2 in Serbia, 2 in Denmark, 1 in Belgium, 2 in China, 1 in Sweden, 1 in Poland, 1 in India, 1 in Lithuania and 3 in Mexico.). The Lego Group also franchised its store brand to Majid Al Futtaim Group, which opened 6 stores in 2015 (4 in the United Arab Emirates, and 2 in Kuwait).'],\n",
       " ['level_2',\n",
       "  'title_2',\n",
       "  'Europe',\n",
       "  'plain_text',\n",
       "  \"October 2002 saw a significant change in The Lego Group's direct retail policy with the opening of the first so-called Lego Brand Store in Cologne, Germany. The second, in Milton Keynes, UK, followed quickly – several dozen more opened worldwide over the next few years, and most of the existing stores have been remodelled on the new Brand Store template. One of the distinctive features of these new stores is the inclusion of a 'Pick-A-Brick' system that allows customers to buy individual bricks in bulk quantities. How a customer buys Lego pieces at a Pick-A-Brick is quite simple: customers fill a large or small cup or bag with their choice of Lego bricks from a large and varied selection and purchase it. The opening of most of these stores, including the 2003 opening of one in the Birmingham Bull Ring shopping centre in England, have been marked by the production of a new, special, limited edition, commemorative Lego Duplo piece. Lego opened the first brand store in its home country Denmark in Copenhagen on 13 December 2010. There are two stores in Austria, one store in Belgium, twelve stores in Germany, thirteen stores in the United Kingdom, six stores in France, five stores in Spain, two stores in Serbia, one store in Sweden, one store in Denmark, and one store in Lithuania for a total of 41 stores in Europe. In 2016, three stores opened in Italy: one in Milan, one in the shopping center near the Orio al Serio International Airport in Bergamo, and another in Verona. In 2020, the total amount of Lego stores in Italy reached 14, covering from North to South.\"],\n",
       " ['level_2',\n",
       "  'title_2',\n",
       "  'North America',\n",
       "  'plain_text',\n",
       "  \"In 1992, when the Mall of America opened in Bloomington, Minnesota, one of its premier attractions was the Lego Imagination Center (LIC). An imagination centre is a large Lego store with displays of Lego sculptures and a play area with bins of bricks to build with. The store inventory includes a large selection of Lego sets for sale, including sets which are advertised in Lego catalogues as 'Not Available in Any Store'. A second imagination centre opened at the Disney Springs (formerly Downtown Disney) at Walt Disney World Resort in Orlando, Florida. Between 1999 and 2005, Lego opened 24 further stores in North America in 23 states. As of 2016, there are 90 Lego stores operating or soon-to-be operating in North America in 32 US states and five Canadian provinces. These stores sell various Lego merchandise, including minifigures, Pick-a-Brick, and custom packaged minifigures.\"],\n",
       " ['level_2',\n",
       "  'title_2',\n",
       "  'India',\n",
       "  'plain_text',\n",
       "  'The first Lego store in India was opened in Chennai, Tamil Nadu in March 2014 by Funskool, under licence from the Lego Group.'],\n",
       " ['level_1',\n",
       "  'title_1',\n",
       "  'Toy production',\n",
       "  'plain_text',\n",
       "  'Lego products are mass-produced, packaged, and shipped on a large scale.',\n",
       "  'plain_text',\n",
       "  'Lego Produktion AG was a major production facility for Lego. It was founded in Switzerland in 1974. At the time of its announced closing in 2001, 30% of the world production of Lego was produced at the Swiss facility in Baar. The Baar facility eventually closed in 2004.',\n",
       "  'plain_text',\n",
       "  'In April 1962, the Lego Group began producing miniature tires; it became the largest tire manufacturing company in 2011, when it produced 381 million tires that year.'],\n",
       " ['level_1', 'title_1', 'Environmental issues'],\n",
       " ['level_2',\n",
       "  'title_2',\n",
       "  'Sustainable alternatives',\n",
       "  'plain_text',\n",
       "  'Lego acknowledges the impact of its operations on the environment, in particular in areas such as climate change, resource and energy use and waste. All manufacturing sites are certified according to the environmental standard ISO 14001. The first Borkum Riffgrund 1 wind turbines off the coast of Germany began producing electricity in February 2015, which will help The Lego Group reach its goal of being based 100% on renewable energy by 2020. The company claims to recycle 90% of its waste and that it had made its operations nearly one-third more energy efficient over the five-year period ending 31 December 2013. It is seeking alternatives to crude oil as the raw material for its bricks. This results in the establishment in June 2015 the Lego Sustainable Materials Centre, which is expected to recruit more than 100 employees, as a significant step towards the 2030 ambition of finding and implementing sustainable alternatives to current materials.'],\n",
       " ['level_2',\n",
       "  'title_2',\n",
       "  'Greenpeace',\n",
       "  'plain_text',\n",
       "  'In 2011, Lego bowed to pressure from the environmental campaigning organization Greenpeace, reportedly agreeing to drop supplier Asia Pulp and Paper, and pledging to only use packaging material certified by the Forest Stewardship Council in future. The environmental group had accused Lego, Hasbro, Mattel and Disney of using packaging material sourced from trees cleared out of the Indonesian rainforest.'],\n",
       " ['level_2',\n",
       "  'title_2',\n",
       "  'Shell',\n",
       "  'plain_text',\n",
       "  \"Lego partnered with the oil company Royal Dutch Shell in the 1960s, using the company's logo in some of its construction sets. This partnership continued until the 1990s and was renewed again in 2011. In July 2014, Greenpeace launched a global campaign to persuade Lego to cease producing toys carrying the oil company Shell's logo in response to Shell's plans to drill for oil in the Arctic. Shell's PR company valued the most recent two-year deal with Lego at $116 million and reported that Shell achieved a 7.5% worldwide sales uplift during the promotion video from Iris International. Lego announced that when the latest contract between the two companies comes to an end it will not be renewing it.\",\n",
       "  'plain_text',\n",
       "  \"As of August 2014, more than 750,000 people worldwide had signed a Greenpeace petition asking Lego to end its partnership with Shell. Lego responded saying they 'expect that Shell lives up to their responsibilities wherever they operate' and that they 'intend to live up to the long term contract with Shell, which we entered into in 2011.' Meanwhile, Greenpeace produced a video campaigning against the Shell partnership; it received extensive press coverage and was viewed more than six million times on YouTube. In October 2014, Lego announced that it would not be renewing its promotional contract with Royal Dutch Shell but did not say when the existing deal with Shell expires. Greenpeace claimed the decision was in response to its campaigning.\"]]"
      ]
     },
     "execution_count": 13,
     "metadata": {},
     "output_type": "execute_result"
    }
   ],
   "source": [
    "slide_contents = build_slide_content(slide_elements)\n",
    "slide_contents"
   ]
  },
  {
   "cell_type": "code",
   "execution_count": 14,
   "metadata": {
    "scrolled": true
   },
   "outputs": [
    {
     "name": "stdout",
     "output_type": "stream",
     "text": [
      "['level_0', 'title_0', 'The Lego Group'] \n",
      "\n",
      "['level_1', 'title_1', 'Introduction'] \n",
      "\n",
      "['level_2', 'title_2', 'General information', 'plain_text', 'Lego System A/S (trade name: The Lego Group) is a Danish toy production company based in Billund. It is best known for the manufacture of Lego-brand toys, consisting mostly of interlocking plastic bricks. The Lego Group has also built several amusement parks around the world, each known as Legoland, and operates numerous retail stores.', 'plain_text', \"The company was founded on 10 August 1932 by Ole Kirk Christiansen. The name Lego is derived from the Danish words leg godt, meaning 'play well'. In the first half of 2015, The Lego Group became the world's largest toy company by revenue, with sales amounting to US$2.1 billion, surpassing Mattel, which had US$1.9 billion in sales. Niels B. Christiansen is the company's CEO, having assumed the position on 1 October 2017.\"] \n",
      "\n",
      "['level_2', 'title_2', 'History', 'plain_text', 'The history of Lego spans nearly 100 years, beginning with the creation of small wooden playthings during the early 20th century. Manufacturing of plastic Lego bricks began in Denmark in 1947, but since has grown to include factories throughout the world.', 'plain_text', 'In North America, Samsonite managed the Lego brand from 1961 until 1972 (United States) and 1986 (Canada).'] \n",
      "\n",
      "['level_1', 'title_1', 'Legoland'] \n",
      "\n",
      "['level_2', 'title_2', 'Amusement parks', 'plain_text', \"The Lego Group has built eight amusement parks around the world, each known as Legoland. Each park features large-scale Lego models of famous landmarks and miniature Lego models of famous cities, along with Lego themed rides. The first Legoland park was built in Lego's hometown of Billund in Denmark. This was followed by Legoland Windsor in England, Legoland California in Carlsbad, US and Legoland Deutschland in Günzburg, Germany. In addition, Legoland Sierksdorf was opened in 1973, but soon closed in 1976.\", 'plain_text', 'In July 2005, the Lego Group announced that it had reached a deal with private investment company the Blackstone Group to sell all four parks for €375m to the Blackstone subsidiary Merlin Entertainments. Under the terms of the deal, The Lego Group would take a 30% share in Merlin Entertainments and positions on their board. The sale of the theme parks was part of a wider strategy to restructure the company to focus on the core business of toy products.', 'plain_text', 'In 2010, Merlin Entertainments opened the first Legoland water park at the Legoland California site. On 15 October 2011, Merlin Entertainments opened their first new Legoland park, Legoland Florida, in Winter Haven, Florida. It is the largest Legoland opened to date at 145 acres, and also only one of the Legoland parks opened in the United States. The other Legoland (opened at a later date) water park was opened near the same location on 26 May 2012 after only four months of construction.', 'plain_text', 'Merlin Entertainments opened their second new Legoland park in Nusajaya, Malaysia under the name Legoland Malaysia on 22 September 2012. It is the first Legoland in Asia and was quickly followed by another Lego-themed water park in the same area. The first Lego hotel has also opened near the site. People who stay in the hotel will also get tickets to the theme park and water park.', 'plain_text', 'Merlin Entertainments has also planned several new Legoland parks: Legoland Dubai, Legoland Nagoya (scheduled to open in 2015), and Legoland Korea (also scheduled to open in 2015). In addition, they have opened four new Legoland Discovery Centres, which take the Legoland concept and scale it down to suit a retail park environment.'] \n",
      "\n",
      "['level_1', 'title_1', 'Retail stores', 'plain_text', 'The Lego Group operates 146 retail stores (83 in the United States, 17 in the United Kingdom, 11 in Germany, 10 in Canada, 7 in France, 2 in Spain, 2 in Austria, 2 in Italy, 2 in Serbia, 2 in Denmark, 1 in Belgium, 2 in China, 1 in Sweden, 1 in Poland, 1 in India, 1 in Lithuania and 3 in Mexico.). The Lego Group also franchised its store brand to Majid Al Futtaim Group, which opened 6 stores in 2015 (4 in the United Arab Emirates, and 2 in Kuwait).'] \n",
      "\n",
      "['level_2', 'title_2', 'Europe', 'plain_text', \"October 2002 saw a significant change in The Lego Group's direct retail policy with the opening of the first so-called Lego Brand Store in Cologne, Germany. The second, in Milton Keynes, UK, followed quickly – several dozen more opened worldwide over the next few years, and most of the existing stores have been remodelled on the new Brand Store template. One of the distinctive features of these new stores is the inclusion of a 'Pick-A-Brick' system that allows customers to buy individual bricks in bulk quantities. How a customer buys Lego pieces at a Pick-A-Brick is quite simple: customers fill a large or small cup or bag with their choice of Lego bricks from a large and varied selection and purchase it. The opening of most of these stores, including the 2003 opening of one in the Birmingham Bull Ring shopping centre in England, have been marked by the production of a new, special, limited edition, commemorative Lego Duplo piece. Lego opened the first brand store in its home country Denmark in Copenhagen on 13 December 2010. There are two stores in Austria, one store in Belgium, twelve stores in Germany, thirteen stores in the United Kingdom, six stores in France, five stores in Spain, two stores in Serbia, one store in Sweden, one store in Denmark, and one store in Lithuania for a total of 41 stores in Europe. In 2016, three stores opened in Italy: one in Milan, one in the shopping center near the Orio al Serio International Airport in Bergamo, and another in Verona. In 2020, the total amount of Lego stores in Italy reached 14, covering from North to South.\"] \n",
      "\n",
      "['level_2', 'title_2', 'North America', 'plain_text', \"In 1992, when the Mall of America opened in Bloomington, Minnesota, one of its premier attractions was the Lego Imagination Center (LIC). An imagination centre is a large Lego store with displays of Lego sculptures and a play area with bins of bricks to build with. The store inventory includes a large selection of Lego sets for sale, including sets which are advertised in Lego catalogues as 'Not Available in Any Store'. A second imagination centre opened at the Disney Springs (formerly Downtown Disney) at Walt Disney World Resort in Orlando, Florida. Between 1999 and 2005, Lego opened 24 further stores in North America in 23 states. As of 2016, there are 90 Lego stores operating or soon-to-be operating in North America in 32 US states and five Canadian provinces. These stores sell various Lego merchandise, including minifigures, Pick-a-Brick, and custom packaged minifigures.\"] \n",
      "\n",
      "['level_2', 'title_2', 'India', 'plain_text', 'The first Lego store in India was opened in Chennai, Tamil Nadu in March 2014 by Funskool, under licence from the Lego Group.'] \n",
      "\n",
      "['level_1', 'title_1', 'Toy production', 'plain_text', 'Lego products are mass-produced, packaged, and shipped on a large scale.', 'plain_text', 'Lego Produktion AG was a major production facility for Lego. It was founded in Switzerland in 1974. At the time of its announced closing in 2001, 30% of the world production of Lego was produced at the Swiss facility in Baar. The Baar facility eventually closed in 2004.', 'plain_text', 'In April 1962, the Lego Group began producing miniature tires; it became the largest tire manufacturing company in 2011, when it produced 381 million tires that year.'] \n",
      "\n",
      "['level_1', 'title_1', 'Environmental issues'] \n",
      "\n",
      "['level_2', 'title_2', 'Sustainable alternatives', 'plain_text', 'Lego acknowledges the impact of its operations on the environment, in particular in areas such as climate change, resource and energy use and waste. All manufacturing sites are certified according to the environmental standard ISO 14001. The first Borkum Riffgrund 1 wind turbines off the coast of Germany began producing electricity in February 2015, which will help The Lego Group reach its goal of being based 100% on renewable energy by 2020. The company claims to recycle 90% of its waste and that it had made its operations nearly one-third more energy efficient over the five-year period ending 31 December 2013. It is seeking alternatives to crude oil as the raw material for its bricks. This results in the establishment in June 2015 the Lego Sustainable Materials Centre, which is expected to recruit more than 100 employees, as a significant step towards the 2030 ambition of finding and implementing sustainable alternatives to current materials.'] \n",
      "\n",
      "['level_2', 'title_2', 'Greenpeace', 'plain_text', 'In 2011, Lego bowed to pressure from the environmental campaigning organization Greenpeace, reportedly agreeing to drop supplier Asia Pulp and Paper, and pledging to only use packaging material certified by the Forest Stewardship Council in future. The environmental group had accused Lego, Hasbro, Mattel and Disney of using packaging material sourced from trees cleared out of the Indonesian rainforest.'] \n",
      "\n",
      "['level_2', 'title_2', 'Shell', 'plain_text', \"Lego partnered with the oil company Royal Dutch Shell in the 1960s, using the company's logo in some of its construction sets. This partnership continued until the 1990s and was renewed again in 2011. In July 2014, Greenpeace launched a global campaign to persuade Lego to cease producing toys carrying the oil company Shell's logo in response to Shell's plans to drill for oil in the Arctic. Shell's PR company valued the most recent two-year deal with Lego at $116 million and reported that Shell achieved a 7.5% worldwide sales uplift during the promotion video from Iris International. Lego announced that when the latest contract between the two companies comes to an end it will not be renewing it.\", 'plain_text', \"As of August 2014, more than 750,000 people worldwide had signed a Greenpeace petition asking Lego to end its partnership with Shell. Lego responded saying they 'expect that Shell lives up to their responsibilities wherever they operate' and that they 'intend to live up to the long term contract with Shell, which we entered into in 2011.' Meanwhile, Greenpeace produced a video campaigning against the Shell partnership; it received extensive press coverage and was viewed more than six million times on YouTube. In October 2014, Lego announced that it would not be renewing its promotional contract with Royal Dutch Shell but did not say when the existing deal with Shell expires. Greenpeace claimed the decision was in response to its campaigning.\"] \n",
      "\n"
     ]
    }
   ],
   "source": [
    "for content in slide_contents:\n",
    "    print(content,\"\\n\")"
   ]
  },
  {
   "cell_type": "code",
   "execution_count": 15,
   "metadata": {},
   "outputs": [
    {
     "name": "stdout",
     "output_type": "stream",
     "text": [
      "Creating a title slide\n",
      "\n",
      "title_0 The Lego Group\n",
      "Creating a section header slide\n",
      "\n",
      "title_1 Introduction\n",
      "Creating a title and content slide\n",
      "\n",
      "title_2 General information\n",
      "plain_text Lego System A/S (trade name: The Lego Group) is a Danish toy production company based in Billund. It is best known for the manufacture of Lego-brand toys, consisting mostly of interlocking plastic bricks. The Lego Group has also built several amusement parks around the world, each known as Legoland, and operates numerous retail stores.\n",
      "plain_text The company was founded on 10 August 1932 by Ole Kirk Christiansen. The name Lego is derived from the Danish words leg godt, meaning 'play well'. In the first half of 2015, The Lego Group became the world's largest toy company by revenue, with sales amounting to US$2.1 billion, surpassing Mattel, which had US$1.9 billion in sales. Niels B. Christiansen is the company's CEO, having assumed the position on 1 October 2017.\n",
      "Creating a title and content slide\n",
      "\n",
      "title_2 History\n",
      "plain_text The history of Lego spans nearly 100 years, beginning with the creation of small wooden playthings during the early 20th century. Manufacturing of plastic Lego bricks began in Denmark in 1947, but since has grown to include factories throughout the world.\n",
      "plain_text In North America, Samsonite managed the Lego brand from 1961 until 1972 (United States) and 1986 (Canada).\n",
      "Creating a section header slide\n",
      "\n",
      "title_1 Legoland\n",
      "Creating a title and content slide\n",
      "\n",
      "title_2 Amusement parks\n",
      "plain_text The Lego Group has built eight amusement parks around the world, each known as Legoland. Each park features large-scale Lego models of famous landmarks and miniature Lego models of famous cities, along with Lego themed rides. The first Legoland park was built in Lego's hometown of Billund in Denmark. This was followed by Legoland Windsor in England, Legoland California in Carlsbad, US and Legoland Deutschland in Günzburg, Germany. In addition, Legoland Sierksdorf was opened in 1973, but soon closed in 1976.\n",
      "plain_text In July 2005, the Lego Group announced that it had reached a deal with private investment company the Blackstone Group to sell all four parks for €375m to the Blackstone subsidiary Merlin Entertainments. Under the terms of the deal, The Lego Group would take a 30% share in Merlin Entertainments and positions on their board. The sale of the theme parks was part of a wider strategy to restructure the company to focus on the core business of toy products.\n",
      "plain_text In 2010, Merlin Entertainments opened the first Legoland water park at the Legoland California site. On 15 October 2011, Merlin Entertainments opened their first new Legoland park, Legoland Florida, in Winter Haven, Florida. It is the largest Legoland opened to date at 145 acres, and also only one of the Legoland parks opened in the United States. The other Legoland (opened at a later date) water park was opened near the same location on 26 May 2012 after only four months of construction.\n",
      "plain_text Merlin Entertainments opened their second new Legoland park in Nusajaya, Malaysia under the name Legoland Malaysia on 22 September 2012. It is the first Legoland in Asia and was quickly followed by another Lego-themed water park in the same area. The first Lego hotel has also opened near the site. People who stay in the hotel will also get tickets to the theme park and water park.\n",
      "plain_text Merlin Entertainments has also planned several new Legoland parks: Legoland Dubai, Legoland Nagoya (scheduled to open in 2015), and Legoland Korea (also scheduled to open in 2015). In addition, they have opened four new Legoland Discovery Centres, which take the Legoland concept and scale it down to suit a retail park environment.\n",
      "Creating a section header slide\n",
      "\n",
      "title_1 Retail stores\n",
      "plain_text The Lego Group operates 146 retail stores (83 in the United States, 17 in the United Kingdom, 11 in Germany, 10 in Canada, 7 in France, 2 in Spain, 2 in Austria, 2 in Italy, 2 in Serbia, 2 in Denmark, 1 in Belgium, 2 in China, 1 in Sweden, 1 in Poland, 1 in India, 1 in Lithuania and 3 in Mexico.). The Lego Group also franchised its store brand to Majid Al Futtaim Group, which opened 6 stores in 2015 (4 in the United Arab Emirates, and 2 in Kuwait).\n",
      "Creating a title and content slide\n",
      "\n",
      "title_2 Europe\n",
      "plain_text October 2002 saw a significant change in The Lego Group's direct retail policy with the opening of the first so-called Lego Brand Store in Cologne, Germany. The second, in Milton Keynes, UK, followed quickly – several dozen more opened worldwide over the next few years, and most of the existing stores have been remodelled on the new Brand Store template. One of the distinctive features of these new stores is the inclusion of a 'Pick-A-Brick' system that allows customers to buy individual bricks in bulk quantities. How a customer buys Lego pieces at a Pick-A-Brick is quite simple: customers fill a large or small cup or bag with their choice of Lego bricks from a large and varied selection and purchase it. The opening of most of these stores, including the 2003 opening of one in the Birmingham Bull Ring shopping centre in England, have been marked by the production of a new, special, limited edition, commemorative Lego Duplo piece. Lego opened the first brand store in its home country Denmark in Copenhagen on 13 December 2010. There are two stores in Austria, one store in Belgium, twelve stores in Germany, thirteen stores in the United Kingdom, six stores in France, five stores in Spain, two stores in Serbia, one store in Sweden, one store in Denmark, and one store in Lithuania for a total of 41 stores in Europe. In 2016, three stores opened in Italy: one in Milan, one in the shopping center near the Orio al Serio International Airport in Bergamo, and another in Verona. In 2020, the total amount of Lego stores in Italy reached 14, covering from North to South.\n",
      "Creating a title and content slide\n",
      "\n",
      "title_2 North America\n",
      "plain_text In 1992, when the Mall of America opened in Bloomington, Minnesota, one of its premier attractions was the Lego Imagination Center (LIC). An imagination centre is a large Lego store with displays of Lego sculptures and a play area with bins of bricks to build with. The store inventory includes a large selection of Lego sets for sale, including sets which are advertised in Lego catalogues as 'Not Available in Any Store'. A second imagination centre opened at the Disney Springs (formerly Downtown Disney) at Walt Disney World Resort in Orlando, Florida. Between 1999 and 2005, Lego opened 24 further stores in North America in 23 states. As of 2016, there are 90 Lego stores operating or soon-to-be operating in North America in 32 US states and five Canadian provinces. These stores sell various Lego merchandise, including minifigures, Pick-a-Brick, and custom packaged minifigures.\n",
      "Creating a title and content slide\n",
      "\n",
      "title_2 India\n",
      "plain_text The first Lego store in India was opened in Chennai, Tamil Nadu in March 2014 by Funskool, under licence from the Lego Group.\n",
      "Creating a section header slide\n",
      "\n",
      "title_1 Toy production\n",
      "plain_text Lego products are mass-produced, packaged, and shipped on a large scale.\n",
      "plain_text Lego Produktion AG was a major production facility for Lego. It was founded in Switzerland in 1974. At the time of its announced closing in 2001, 30% of the world production of Lego was produced at the Swiss facility in Baar. The Baar facility eventually closed in 2004.\n",
      "plain_text In April 1962, the Lego Group began producing miniature tires; it became the largest tire manufacturing company in 2011, when it produced 381 million tires that year.\n",
      "Creating a section header slide\n",
      "\n",
      "title_1 Environmental issues\n",
      "Creating a title and content slide\n",
      "\n",
      "title_2 Sustainable alternatives\n",
      "plain_text Lego acknowledges the impact of its operations on the environment, in particular in areas such as climate change, resource and energy use and waste. All manufacturing sites are certified according to the environmental standard ISO 14001. The first Borkum Riffgrund 1 wind turbines off the coast of Germany began producing electricity in February 2015, which will help The Lego Group reach its goal of being based 100% on renewable energy by 2020. The company claims to recycle 90% of its waste and that it had made its operations nearly one-third more energy efficient over the five-year period ending 31 December 2013. It is seeking alternatives to crude oil as the raw material for its bricks. This results in the establishment in June 2015 the Lego Sustainable Materials Centre, which is expected to recruit more than 100 employees, as a significant step towards the 2030 ambition of finding and implementing sustainable alternatives to current materials.\n",
      "Creating a title and content slide\n",
      "\n",
      "title_2 Greenpeace\n",
      "plain_text In 2011, Lego bowed to pressure from the environmental campaigning organization Greenpeace, reportedly agreeing to drop supplier Asia Pulp and Paper, and pledging to only use packaging material certified by the Forest Stewardship Council in future. The environmental group had accused Lego, Hasbro, Mattel and Disney of using packaging material sourced from trees cleared out of the Indonesian rainforest.\n",
      "Creating a title and content slide\n",
      "\n",
      "title_2 Shell\n",
      "plain_text Lego partnered with the oil company Royal Dutch Shell in the 1960s, using the company's logo in some of its construction sets. This partnership continued until the 1990s and was renewed again in 2011. In July 2014, Greenpeace launched a global campaign to persuade Lego to cease producing toys carrying the oil company Shell's logo in response to Shell's plans to drill for oil in the Arctic. Shell's PR company valued the most recent two-year deal with Lego at $116 million and reported that Shell achieved a 7.5% worldwide sales uplift during the promotion video from Iris International. Lego announced that when the latest contract between the two companies comes to an end it will not be renewing it.\n",
      "plain_text As of August 2014, more than 750,000 people worldwide had signed a Greenpeace petition asking Lego to end its partnership with Shell. Lego responded saying they 'expect that Shell lives up to their responsibilities wherever they operate' and that they 'intend to live up to the long term contract with Shell, which we entered into in 2011.' Meanwhile, Greenpeace produced a video campaigning against the Shell partnership; it received extensive press coverage and was viewed more than six million times on YouTube. In October 2014, Lego announced that it would not be renewing its promotional contract with Royal Dutch Shell but did not say when the existing deal with Shell expires. Greenpeace claimed the decision was in response to its campaigning.\n"
     ]
    },
    {
     "data": {
      "text/plain": [
       "<pptx.presentation.Presentation at 0x1dae87f9ac0>"
      ]
     },
     "execution_count": 15,
     "metadata": {},
     "output_type": "execute_result"
    }
   ],
   "source": [
    "detect_layout_and_create_slide(slide_contents, pres, imgspath)"
   ]
  },
  {
   "cell_type": "code",
   "execution_count": 16,
   "metadata": {},
   "outputs": [],
   "source": [
    "pres.save(filename)"
   ]
  },
  {
   "cell_type": "code",
   "execution_count": 17,
   "metadata": {},
   "outputs": [
    {
     "ename": "FileNotFoundError",
     "evalue": "[WinError 2] Le fichier spécifié est introuvable: './doc_and_ppt/Lego.pptx'",
     "output_type": "error",
     "traceback": [
      "\u001b[1;31m---------------------------------------------------------------------------\u001b[0m",
      "\u001b[1;31mFileNotFoundError\u001b[0m                         Traceback (most recent call last)",
      "\u001b[1;32m<ipython-input-17-5d95fe1774a4>\u001b[0m in \u001b[0;36m<module>\u001b[1;34m\u001b[0m\n\u001b[1;32m----> 1\u001b[1;33m \u001b[0mos\u001b[0m\u001b[1;33m.\u001b[0m\u001b[0mstartfile\u001b[0m\u001b[1;33m(\u001b[0m\u001b[0mfilename\u001b[0m\u001b[1;33m)\u001b[0m\u001b[1;33m\u001b[0m\u001b[1;33m\u001b[0m\u001b[0m\n\u001b[0m",
      "\u001b[1;31mFileNotFoundError\u001b[0m: [WinError 2] Le fichier spécifié est introuvable: './doc_and_ppt/Lego.pptx'"
     ]
    }
   ],
   "source": [
    "os.startfile(filename)"
   ]
  },
  {
   "cell_type": "code",
   "execution_count": null,
   "metadata": {},
   "outputs": [],
   "source": []
  }
 ],
 "metadata": {
  "kernelspec": {
   "display_name": "Python 3",
   "language": "python",
   "name": "python3"
  },
  "language_info": {
   "codemirror_mode": {
    "name": "ipython",
    "version": 3
   },
   "file_extension": ".py",
   "mimetype": "text/x-python",
   "name": "python",
   "nbconvert_exporter": "python",
   "pygments_lexer": "ipython3",
   "version": "3.8.3"
  }
 },
 "nbformat": 4,
 "nbformat_minor": 4
}
