{
 "cells": [
  {
   "cell_type": "markdown",
   "metadata": {},
   "source": [
    "## Test NLP  \n",
    "by Jeremy Trullier  \n",
    "#### Trying some NLP libraries and model\n",
    "#### Writing functions to easily retrieve relevant data from our word doc"
   ]
  },
  {
   "cell_type": "code",
   "execution_count": 1,
   "metadata": {},
   "outputs": [],
   "source": [
    "import os\n",
    "import json\n",
    "\n",
    "from enum import Enum\n",
    "from pptx.util import Inches\n",
    "from pptx import Presentation\n",
    "from pptx.enum.shapes import MSO_SHAPE"
   ]
  },
  {
   "cell_type": "code",
   "execution_count": 2,
   "metadata": {},
   "outputs": [],
   "source": [
    "from process_json import *\n",
    "from slide_functions import *"
   ]
  },
  {
   "cell_type": "code",
   "execution_count": 3,
   "metadata": {},
   "outputs": [],
   "source": [
    "datapath = '../data/'"
   ]
  },
  {
   "cell_type": "code",
   "execution_count": 4,
   "metadata": {},
   "outputs": [
    {
     "name": "stdout",
     "output_type": "stream",
     "text": [
      "connard_de_virus.png\n",
      "default_picture.jpg\n",
      "Disney_json_ppt2.json\n",
      "example.json\n",
      "lego.json\n"
     ]
    }
   ],
   "source": [
    "files = os.listdir(datapath)\n",
    "for filename in files:\n",
    "    print(filename)"
   ]
  },
  {
   "cell_type": "code",
   "execution_count": 24,
   "metadata": {},
   "outputs": [],
   "source": [
    "filename = \"Disney_json_ppt2.json\"\n",
    "jsonpath = datapath+filename"
   ]
  },
  {
   "cell_type": "code",
   "execution_count": 6,
   "metadata": {},
   "outputs": [],
   "source": [
    "with open(jsonpath) as fjson:\n",
    "    data = json.load(fjson)"
   ]
  },
  {
   "cell_type": "code",
   "execution_count": 7,
   "metadata": {},
   "outputs": [
    {
     "name": "stdout",
     "output_type": "stream",
     "text": [
      "{'type': 'level_0', 'content': [{'type': 'title_0', 'content': ['Walt Disney Company']}]} \n",
      "\n",
      "{'type': 'level_2', 'content': [{'type': 'title_2', 'content': ['La compagnie']}, {'type': 'plain_text', 'content': [\"The Walt Disney Company est une entreprise amÃ©ricaine crÃ©Ã©e en 1923 par Walt Disney sous le nom Disney Brothers Studios. Elle est, en 2012, le premier groupe de divertissement au monde, prÃ©sent dans l'industrie des mÃ©dias (journaux, radios, tÃ©lÃ©vision, internet) avec des Ã©missions, des sÃ©ries tÃ©lÃ©visÃ©es, du cinÃ©ma avec des courts-mÃ©trages d'animation (dans lesquels figurent de cÃ©lÃ¨bres personnages tels que Mickey Mouse, Donald Duck, Dingo, etc.), des longs mÃ©trages d'animation et des films en prises de vues rÃ©elles, dans l'industrie du tourisme et de loisirs (parcs d'attractions dont Disneyland et Walt Disney World Resort, hÃ´tels, bateaux de croisiÃ¨re), ainsi que dans les produits dÃ©rivÃ©s de ses nombreuses productions (jeux et jouets, jeux vidÃ©o, vÃªtements, etc.). Elle assure aussi la distribution de productions de tiers.\"]}]} \n",
      "\n",
      "{'type': 'level_2', 'content': [{'type': 'title_2', 'content': ['Direction gÃ©nÃ©rale actuelle']}, {'type': 'plain_text', 'content': ['PrÃ©sident du directoire : Bob Chapek', 'Responsable Financier : Christine McCarthy', 'Adjoint de Robert Iger : Peter E. Murphy']}]} \n",
      "\n",
      "{'type': 'level_1', 'content': [{'type': 'title_1', 'content': ['Les diffÃ©rents groupes de studios']}, {'type': 'level_2', 'content': [{'type': 'title_2', 'content': ['Walt Disney Motion Pictures ']}, {'type': 'plain_text', 'content': [\"Le Walt Disney Motion Pictures Group regroupe les studios de cinÃ©ma avec Walt Disney Pictures (pour les longs mÃ©trages), Touchstone Pictures, Hollywood Pictures. Walt Disney Pictures est subdivisÃ© en Walt Disney Animation Studios, Pixar Animation Studios et Disneynature. Le groupe possÃ¨de ainsi un important catalogue de films dont la distribution est assurÃ©e par Walt Disney Studios Entertainment. Avec l'achat de 20th Century Fox, Disney met la main sur le catalogue de la Fox mais aussi Fox Searchlight Pictures, 20th Century Fox Animation, Blue Sky Studios et Fox Star Studios. Le groupe comprenait les studios Miramax Films et sa division Dimension Films mais Dimension a Ã©tÃ© revendu en 2005 puis Miramax en 2010. Cette division comporte aussi Marvel Studios et Lucasfilms.\"]}]}, {'type': 'level_2', 'content': [{'type': 'title_2', 'content': ['Disney Theatrical Group']}, {'type': 'plain_text', 'content': [\"Le Disney Theatrical Group est la division Â« thÃ©Ã¢tre et spectacles Â». Il comprend Walt Disney Theatrical Productions qui produit des comÃ©dies musicales principalement Ã\\xa0 Broadway et Walt Disney Creative Entertainment qui gÃ¨re les spectacles des parcs Disney mais qui dÃ©pend aussi d'une autre filiale, Walt Disney Imagineering.\"]}]}]} \n",
      "\n",
      "{'type': 'level_1', 'content': [{'type': 'title_1', 'content': ['DonnÃ©es Ã©conomiques']}, {'type': 'level_2', 'content': [{'type': 'title_2', 'content': ['Actionnaires de Disney']}, {'type': 'plain_text', 'content': ['La Walt Disney Company est majoritairement dÃ©tenue par :', 'des investisseurs institutionnels (pourcentage au 31 mars 2007) comme FMR Corporation, State Street Corporation, Barclays Global Investors UK, The Vanguard Group, Legg Mason Inc., Southeastern Asset Management Inc., State Farm Mutual Automobile Insurance Co., Jennison Associates Llc, Wellington Management Company, ou encore AXA ;', \"des fonds de pensions amÃ©ricains souscrivant au capital de la sociÃ©tÃ© comme le California Public Employeesâ€™ Retirement System (CalPERS), le New York State Common Retirement Fund, l'American Federation of State, le County and Municipal Employees Pension Funds (AFSCME) ou l'Illinois State Board of Investment ;\", \"des fonds d'investissements comme Waddell & Reed, Inc (6 %) ou le Wells Fargo Advantage Funds (6 %) sont Ã©galement prÃ©sents au capital.\"]}]}, {'type': 'level_2', 'content': [{'type': 'title_2', 'content': [\"Programme de rachat d'actions\"]}, {'type': 'plain_text', 'content': [\"Le 23 novembre 2016, le site internet financier The Motley Fool annonce que la Walt Disney Company a rachetÃ© 74 millions de ses actions durant l'annÃ©e fiscale 2016 soit plus de 7,5 milliards d'USD augmentant ainsi le prix des actions restantes. La sociÃ©tÃ© avait fait de mÃªme en 2015 pour un montant de 8,4 milliards d'USD soit 89 % de ses liquiditÃ©s. Ces importantes dÃ©penses pour rÃ©duire son volume d'actions ont divisÃ© par trois les rÃ©sultats financiers du groupe et rÃ©duit les dividendes versÃ©s.\"]}]}, {'type': 'level_2', 'content': [{'type': 'title_2', 'content': ['RÃ©sultats financiers']}, {'type': 'picture_item', 'content': ['image_resultat_financier.jpg']}]}]} \n",
      "\n"
     ]
    }
   ],
   "source": [
    "json_slides = data['document_content']\n",
    "for elem in json_slides:\n",
    "    print(elem, \"\\n\") "
   ]
  },
  {
   "cell_type": "code",
   "execution_count": 8,
   "metadata": {},
   "outputs": [],
   "source": [
    "slide_elements = []\n",
    "breakdown_json(json_slides, slide_elements)"
   ]
  },
  {
   "cell_type": "code",
   "execution_count": 21,
   "metadata": {
    "scrolled": false
   },
   "outputs": [],
   "source": [
    "def retrieve_content(list_slides):\n",
    "    \"\"\"\n",
    "    Retrieves titles and plain texts from slide elements (can get them with breakdown_json)\n",
    "    Parameters:\n",
    "        - list_slides : list of data in json format\n",
    "    \"\"\"\n",
    "    keywords = ['level_', 'title_', 'subtitle', 'header']\n",
    "    doc_content = []\n",
    "    sublist = []\n",
    "    for content in list_slides:\n",
    "        r = [content for keyword in keywords if keyword in content]\n",
    "        if len(r)==0:\n",
    "            if filling == True:\n",
    "                sublist.append(content)\n",
    "            if content == 'plain_text':\n",
    "                doc_content.append(sublist)\n",
    "                sublist = []\n",
    "                filling = True\n",
    "        elif len(r)>0:\n",
    "            filling = False\n",
    "\n",
    "    return doc_content[1:]"
   ]
  },
  {
   "cell_type": "code",
   "execution_count": 22,
   "metadata": {
    "scrolled": true
   },
   "outputs": [
    {
     "name": "stdout",
     "output_type": "stream",
     "text": [
      "1 [\"The Walt Disney Company est une entreprise amÃ©ricaine crÃ©Ã©e en 1923 par Walt Disney sous le nom Disney Brothers Studios. Elle est, en 2012, le premier groupe de divertissement au monde, prÃ©sent dans l'industrie des mÃ©dias (journaux, radios, tÃ©lÃ©vision, internet) avec des Ã©missions, des sÃ©ries tÃ©lÃ©visÃ©es, du cinÃ©ma avec des courts-mÃ©trages d'animation (dans lesquels figurent de cÃ©lÃ¨bres personnages tels que Mickey Mouse, Donald Duck, Dingo, etc.), des longs mÃ©trages d'animation et des films en prises de vues rÃ©elles, dans l'industrie du tourisme et de loisirs (parcs d'attractions dont Disneyland et Walt Disney World Resort, hÃ´tels, bateaux de croisiÃ¨re), ainsi que dans les produits dÃ©rivÃ©s de ses nombreuses productions (jeux et jouets, jeux vidÃ©o, vÃªtements, etc.). Elle assure aussi la distribution de productions de tiers.\"] \n",
      "\n",
      "3 ['PrÃ©sident du directoire : Bob Chapek', 'Responsable Financier : Christine McCarthy', 'Adjoint de Robert Iger : Peter E. Murphy'] \n",
      "\n",
      "1 [\"Le Walt Disney Motion Pictures Group regroupe les studios de cinÃ©ma avec Walt Disney Pictures (pour les longs mÃ©trages), Touchstone Pictures, Hollywood Pictures. Walt Disney Pictures est subdivisÃ© en Walt Disney Animation Studios, Pixar Animation Studios et Disneynature. Le groupe possÃ¨de ainsi un important catalogue de films dont la distribution est assurÃ©e par Walt Disney Studios Entertainment. Avec l'achat de 20th Century Fox, Disney met la main sur le catalogue de la Fox mais aussi Fox Searchlight Pictures, 20th Century Fox Animation, Blue Sky Studios et Fox Star Studios. Le groupe comprenait les studios Miramax Films et sa division Dimension Films mais Dimension a Ã©tÃ© revendu en 2005 puis Miramax en 2010. Cette division comporte aussi Marvel Studios et Lucasfilms.\"] \n",
      "\n",
      "1 [\"Le Disney Theatrical Group est la division Â« thÃ©Ã¢tre et spectacles Â». Il comprend Walt Disney Theatrical Productions qui produit des comÃ©dies musicales principalement Ã\\xa0 Broadway et Walt Disney Creative Entertainment qui gÃ¨re les spectacles des parcs Disney mais qui dÃ©pend aussi d'une autre filiale, Walt Disney Imagineering.\"] \n",
      "\n",
      "4 ['La Walt Disney Company est majoritairement dÃ©tenue par :', 'des investisseurs institutionnels (pourcentage au 31 mars 2007) comme FMR Corporation, State Street Corporation, Barclays Global Investors UK, The Vanguard Group, Legg Mason Inc., Southeastern Asset Management Inc., State Farm Mutual Automobile Insurance Co., Jennison Associates Llc, Wellington Management Company, ou encore AXA ;', \"des fonds de pensions amÃ©ricains souscrivant au capital de la sociÃ©tÃ© comme le California Public Employeesâ€™ Retirement System (CalPERS), le New York State Common Retirement Fund, l'American Federation of State, le County and Municipal Employees Pension Funds (AFSCME) ou l'Illinois State Board of Investment ;\", \"des fonds d'investissements comme Waddell & Reed, Inc (6 %) ou le Wells Fargo Advantage Funds (6 %) sont Ã©galement prÃ©sents au capital.\"] \n",
      "\n"
     ]
    }
   ],
   "source": [
    "for item in retrieve_content(slide_elements):\n",
    "    print(len(item), item,'\\n')"
   ]
  },
  {
   "cell_type": "code",
   "execution_count": 26,
   "metadata": {},
   "outputs": [
    {
     "data": {
      "text/plain": [
       "'../data/nlp_Disney_json_ppt2.json'"
      ]
     },
     "execution_count": 26,
     "metadata": {},
     "output_type": "execute_result"
    }
   ],
   "source": [
    "input_file = jsonpath\n",
    "output_file = datapath+\"nlp_\"+filename\n",
    "output_file"
   ]
  },
  {
   "cell_type": "code",
   "execution_count": 67,
   "metadata": {},
   "outputs": [
    {
     "name": "stdout",
     "output_type": "stream",
     "text": [
      "\t\t\t\t\t\t\"Walt Disney Company\"\n",
      "changed\n",
      "\"42\"\n",
      "\t\t\t\t\t\t\"The Walt Disney Company est une entreprise américaine créée en 1923 par Walt Disney sous le nom Disney Brothers Studios. Elle est, en 2012, le premier groupe de divertissement au monde, présent dans l'industrie des médias (journaux, radios, télévision, internet) avec des émissions, des séries télévisées, du cinéma avec des courts-métrages d'animation (dans lesquels figurent de célèbres personnages tels que Mickey Mouse, Donald Duck, Dingo, etc.), des longs métrages d'animation et des films en prises de vues réelles, dans l'industrie du tourisme et de loisirs (parcs d'attractions dont Disneyland et Walt Disney World Resort, hôtels, bateaux de croisière), ainsi que dans les produits dérivés de ses nombreuses productions (jeux et jouets, jeux vidéo, vêtements, etc.). Elle assure aussi la distribution de productions de tiers.\"\n",
      "changed\n",
      "\"42\"\n",
      "\t\t\t\t\t\t\t\t\"Le 23 novembre 2016, le site internet financier The Motley Fool annonce que la Walt Disney Company a racheté 74 millions de ses actions durant l'année fiscale 2016 soit plus de 7,5 milliards d'USD augmentant ainsi le prix des actions restantes. La société avait fait de même en 2015 pour un montant de 8,4 milliards d'USD soit 89 % de ses liquidités. Ces importantes dépenses pour réduire son volume d'actions ont divisé par trois les résultats financiers du groupe et réduit les dividendes versés.\"\n",
      "changed\n",
      "\"42\"\n"
     ]
    }
   ],
   "source": [
    "target_line = \"Walt Disney Company\"\n",
    "new_line = '\"42\"'\n",
    "with open(input_file, \"r\", encoding = \"utf-8\") as ifile:\n",
    "    fcontent = ifile.read()\n",
    "\n",
    "lines = fcontent.split(\"\\n\")\n",
    "\n",
    "for i, line in enumerate(lines):\n",
    "    if (target_line in line):\n",
    "        if (line[len(line)-1] == ','):\n",
    "            lines[i] = new_line+','\n",
    "            continue\n",
    "        lines[i] = new_line\n",
    "        print(line)\n",
    "        print(\"changed\")\n",
    "        print(lines[i])\n",
    "\n",
    "fcontent = \"\\n\".join(lines)\n",
    "\n",
    "with open(output_file, \"w\", encoding = \"utf-8\") as ofile:\n",
    "    ofile.write(fcontent)"
   ]
  },
  {
   "cell_type": "code",
   "execution_count": null,
   "metadata": {},
   "outputs": [],
   "source": []
  },
  {
   "cell_type": "code",
   "execution_count": 11,
   "metadata": {
    "scrolled": false
   },
   "outputs": [],
   "source": [
    "def retrieve_content_and_titles(list_slides, l):\n",
    "    \"\"\"\n",
    "    Retrieves titles and plain texts from json file\n",
    "    Parameters:\n",
    "        - list_slides : list of data in json format\n",
    "        - l : the list to be returned\n",
    "    \"\"\"\n",
    "    if (type(list_slides) == type(list())):\n",
    "        for value in list_slides:\n",
    "            if type(value) == type(str()):\n",
    "                l.append(value)\n",
    "            else:\n",
    "                retrieve_content_and_titles(value, l)\n",
    "    elif (type(list_slides) == type(dict())):\n",
    "        for key,value in list_slides.items():\n",
    "            retrieve_content_and_titles(value, l)\n",
    "    else:\n",
    "        pass\n",
    "        #print(type(list_slides))\n",
    "\n",
    "testl= []\n",
    "retrieve_content_and_titles(json_slides, testl)"
   ]
  },
  {
   "cell_type": "code",
   "execution_count": 12,
   "metadata": {},
   "outputs": [
    {
     "name": "stdout",
     "output_type": "stream",
     "text": [
      "Walt Disney Company \n",
      "\n",
      "La compagnie \n",
      "\n",
      "The Walt Disney Company est une entreprise amÃ©ricaine crÃ©Ã©e en 1923 par Walt Disney sous le nom Disney Brothers Studios. Elle est, en 2012, le premier groupe de divertissement au monde, prÃ©sent dans l'industrie des mÃ©dias (journaux, radios, tÃ©lÃ©vision, internet) avec des Ã©missions, des sÃ©ries tÃ©lÃ©visÃ©es, du cinÃ©ma avec des courts-mÃ©trages d'animation (dans lesquels figurent de cÃ©lÃ¨bres personnages tels que Mickey Mouse, Donald Duck, Dingo, etc.), des longs mÃ©trages d'animation et des films en prises de vues rÃ©elles, dans l'industrie du tourisme et de loisirs (parcs d'attractions dont Disneyland et Walt Disney World Resort, hÃ´tels, bateaux de croisiÃ¨re), ainsi que dans les produits dÃ©rivÃ©s de ses nombreuses productions (jeux et jouets, jeux vidÃ©o, vÃªtements, etc.). Elle assure aussi la distribution de productions de tiers. \n",
      "\n",
      "Direction gÃ©nÃ©rale actuelle \n",
      "\n",
      "PrÃ©sident du directoire : Bob Chapek \n",
      "\n",
      "Responsable Financier : Christine McCarthy \n",
      "\n",
      "Adjoint de Robert Iger : Peter E. Murphy \n",
      "\n",
      "Les diffÃ©rents groupes de studios \n",
      "\n",
      "Walt Disney Motion Pictures  \n",
      "\n",
      "Le Walt Disney Motion Pictures Group regroupe les studios de cinÃ©ma avec Walt Disney Pictures (pour les longs mÃ©trages), Touchstone Pictures, Hollywood Pictures. Walt Disney Pictures est subdivisÃ© en Walt Disney Animation Studios, Pixar Animation Studios et Disneynature. Le groupe possÃ¨de ainsi un important catalogue de films dont la distribution est assurÃ©e par Walt Disney Studios Entertainment. Avec l'achat de 20th Century Fox, Disney met la main sur le catalogue de la Fox mais aussi Fox Searchlight Pictures, 20th Century Fox Animation, Blue Sky Studios et Fox Star Studios. Le groupe comprenait les studios Miramax Films et sa division Dimension Films mais Dimension a Ã©tÃ© revendu en 2005 puis Miramax en 2010. Cette division comporte aussi Marvel Studios et Lucasfilms. \n",
      "\n",
      "Disney Theatrical Group \n",
      "\n",
      "Le Disney Theatrical Group est la division Â« thÃ©Ã¢tre et spectacles Â». Il comprend Walt Disney Theatrical Productions qui produit des comÃ©dies musicales principalement Ã  Broadway et Walt Disney Creative Entertainment qui gÃ¨re les spectacles des parcs Disney mais qui dÃ©pend aussi d'une autre filiale, Walt Disney Imagineering. \n",
      "\n",
      "DonnÃ©es Ã©conomiques \n",
      "\n",
      "Actionnaires de Disney \n",
      "\n",
      "La Walt Disney Company est majoritairement dÃ©tenue par : \n",
      "\n",
      "des investisseurs institutionnels (pourcentage au 31 mars 2007) comme FMR Corporation, State Street Corporation, Barclays Global Investors UK, The Vanguard Group, Legg Mason Inc., Southeastern Asset Management Inc., State Farm Mutual Automobile Insurance Co., Jennison Associates Llc, Wellington Management Company, ou encore AXA ; \n",
      "\n",
      "des fonds de pensions amÃ©ricains souscrivant au capital de la sociÃ©tÃ© comme le California Public Employeesâ€™ Retirement System (CalPERS), le New York State Common Retirement Fund, l'American Federation of State, le County and Municipal Employees Pension Funds (AFSCME) ou l'Illinois State Board of Investment ; \n",
      "\n",
      "des fonds d'investissements comme Waddell & Reed, Inc (6 %) ou le Wells Fargo Advantage Funds (6 %) sont Ã©galement prÃ©sents au capital. \n",
      "\n",
      "Programme de rachat d'actions \n",
      "\n",
      "Le 23 novembre 2016, le site internet financier The Motley Fool annonce que la Walt Disney Company a rachetÃ© 74 millions de ses actions durant l'annÃ©e fiscale 2016 soit plus de 7,5 milliards d'USD augmentant ainsi le prix des actions restantes. La sociÃ©tÃ© avait fait de mÃªme en 2015 pour un montant de 8,4 milliards d'USD soit 89 % de ses liquiditÃ©s. Ces importantes dÃ©penses pour rÃ©duire son volume d'actions ont divisÃ© par trois les rÃ©sultats financiers du groupe et rÃ©duit les dividendes versÃ©s. \n",
      "\n",
      "RÃ©sultats financiers \n",
      "\n",
      "image_resultat_financier.jpg \n",
      "\n"
     ]
    }
   ],
   "source": [
    "for i in testl:\n",
    "    print(i,\"\\n\")"
   ]
  },
  {
   "cell_type": "markdown",
   "metadata": {},
   "source": [
    "### Extraction based summurazation"
   ]
  },
  {
   "cell_type": "code",
   "execution_count": 13,
   "metadata": {},
   "outputs": [],
   "source": [
    "from nlp_extraction import _run_article_summary"
   ]
  },
  {
   "cell_type": "code",
   "execution_count": 14,
   "metadata": {},
   "outputs": [],
   "source": [
    "article = \"Peter and Elizabeth took a taxi to attend the night party in the city. While in the party, Elizabeth collapsed and was rushed to the hospital. Since she was diagnosed with a brain injury, the doctor told Peter to stay besides her until she gets well. Therefore, Peter stayed with her at the hospital for 3 days without leaving.\""
   ]
  },
  {
   "cell_type": "code",
   "execution_count": 15,
   "metadata": {
    "scrolled": true
   },
   "outputs": [
    {
     "name": "stdout",
     "output_type": "stream",
     "text": [
      " While in the party, Elizabeth collapsed and was rushed to the hospital. Therefore, Peter stayed with her at the hospital for 3 days without leaving.\n"
     ]
    }
   ],
   "source": [
    "summary_results = _run_article_summary(article)\n",
    "print(summary_results)"
   ]
  },
  {
   "cell_type": "markdown",
   "metadata": {},
   "source": [
    "### Bix"
   ]
  },
  {
   "cell_type": "code",
   "execution_count": 16,
   "metadata": {},
   "outputs": [],
   "source": [
    "import gensim\n",
    "import collections\n",
    "\n",
    "import gensim.downloader as api\n",
    "\n",
    "from gensim.models import Word2Vec\n",
    "from gensim.summarization import summarize\n",
    "from gensim.parsing.preprocessing import remove_stopwords"
   ]
  },
  {
   "cell_type": "code",
   "execution_count": 17,
   "metadata": {},
   "outputs": [
    {
     "name": "stdout",
     "output_type": "stream",
     "text": [
      "▶ Peter and Elizabeth took a taxi to attend the night party in the city.\n",
      "Therefore, Peter stayed with her at the hospital for 3 days without leaving.\n"
     ]
    }
   ],
   "source": [
    "print(\"▶\",summarize(article, word_count=20))"
   ]
  },
  {
   "cell_type": "code",
   "execution_count": null,
   "metadata": {},
   "outputs": [],
   "source": []
  }
 ],
 "metadata": {
  "kernelspec": {
   "display_name": "Python 3",
   "language": "python",
   "name": "python3"
  },
  "language_info": {
   "codemirror_mode": {
    "name": "ipython",
    "version": 3
   },
   "file_extension": ".py",
   "mimetype": "text/x-python",
   "name": "python",
   "nbconvert_exporter": "python",
   "pygments_lexer": "ipython3",
   "version": "3.8.3"
  }
 },
 "nbformat": 4,
 "nbformat_minor": 4
}
